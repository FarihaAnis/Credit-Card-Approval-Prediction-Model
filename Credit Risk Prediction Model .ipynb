{
 "cells": [
  {
   "cell_type": "markdown",
   "id": "676334fb",
   "metadata": {},
   "source": [
    "# Credit Risk Prediction Model "
   ]
  },
  {
   "cell_type": "markdown",
   "id": "95a27e2b",
   "metadata": {},
   "source": [
    "### Business Needs\n",
    "\n",
    "> To predict credit risk for customers applying for credit cards, enabling financial institutions to identify high-risk customers, reduce defaults, and optimize credit card approval decisions.\n",
    "\n",
    "\n",
    "### Objective \n",
    "\n",
    "> To develop a machine learning model that predicts the likelihood of customer default using payment history and demographic data.\n",
    "\n",
    "### Dataset Description\n",
    "Source: https://www.kaggle.com/datasets/rikdifos/credit-card-approval-prediction/data\n",
    "\n",
    "The dataset consists of two components sourced from Kaggle:\n",
    "> - `Application Record`: A dataset with 438,557 records and 18 features, offering insights into customer demographics and credit card applications.\n",
    "> - `Credit Record`: A dataset with 1,048,575 records and 3 features, capturing historical credit payment statuses for risk assessment."
   ]
  },
  {
   "cell_type": "markdown",
   "id": "a652c708",
   "metadata": {},
   "source": [
    "###  Import Libraries and Load Data\n"
   ]
  },
  {
   "cell_type": "code",
   "execution_count": 1,
   "id": "c4821494",
   "metadata": {},
   "outputs": [],
   "source": [
    "#Import libraries\n",
    "import pandas as pd\n",
    "import numpy as np\n",
    "import matplotlib.pyplot as plt\n",
    "import seaborn as sns\n",
    "from sklearn.preprocessing import LabelEncoder\n",
    "from sklearn.preprocessing import OrdinalEncoder\n",
    "from imblearn.over_sampling import ADASYN\n",
    "from sklearn.model_selection import train_test_split\n",
    "from sklearn.preprocessing import StandardScaler\n",
    "from sklearn.metrics import accuracy_score, f1_score, precision_score, recall_score, confusion_matrix\n",
    "from sklearn.linear_model import LogisticRegression\n",
    "from sklearn.ensemble import RandomForestClassifier\n",
    "from sklearn.model_selection import cross_val_score\n",
    "from collections import Counter\n",
    "from xgboost import XGBClassifier\n",
    "from sklearn.tree import DecisionTreeClassifier\n",
    "import matplotlib.patches as mpatches\n",
    "\n",
    "import warnings\n",
    "warnings.filterwarnings(\"ignore\", category=FutureWarning)"
   ]
  },
  {
   "cell_type": "code",
   "execution_count": 2,
   "id": "f0bcc009",
   "metadata": {},
   "outputs": [],
   "source": [
    "application = pd.read_csv(\"application_record.csv\")\n",
    "credit = pd.read_csv(\"credit_record.csv\")"
   ]
  },
  {
   "cell_type": "code",
   "execution_count": 3,
   "id": "a2357b9e",
   "metadata": {},
   "outputs": [
    {
     "data": {
      "text/html": [
       "<div>\n",
       "<style scoped>\n",
       "    .dataframe tbody tr th:only-of-type {\n",
       "        vertical-align: middle;\n",
       "    }\n",
       "\n",
       "    .dataframe tbody tr th {\n",
       "        vertical-align: top;\n",
       "    }\n",
       "\n",
       "    .dataframe thead th {\n",
       "        text-align: right;\n",
       "    }\n",
       "</style>\n",
       "<table border=\"1\" class=\"dataframe\">\n",
       "  <thead>\n",
       "    <tr style=\"text-align: right;\">\n",
       "      <th></th>\n",
       "      <th>ID</th>\n",
       "      <th>CODE_GENDER</th>\n",
       "      <th>FLAG_OWN_CAR</th>\n",
       "      <th>FLAG_OWN_REALTY</th>\n",
       "      <th>CNT_CHILDREN</th>\n",
       "      <th>AMT_INCOME_TOTAL</th>\n",
       "      <th>NAME_INCOME_TYPE</th>\n",
       "      <th>NAME_EDUCATION_TYPE</th>\n",
       "      <th>NAME_FAMILY_STATUS</th>\n",
       "      <th>NAME_HOUSING_TYPE</th>\n",
       "      <th>DAYS_BIRTH</th>\n",
       "      <th>DAYS_EMPLOYED</th>\n",
       "      <th>FLAG_MOBIL</th>\n",
       "      <th>FLAG_WORK_PHONE</th>\n",
       "      <th>FLAG_PHONE</th>\n",
       "      <th>FLAG_EMAIL</th>\n",
       "      <th>OCCUPATION_TYPE</th>\n",
       "      <th>CNT_FAM_MEMBERS</th>\n",
       "    </tr>\n",
       "  </thead>\n",
       "  <tbody>\n",
       "    <tr>\n",
       "      <th>0</th>\n",
       "      <td>5008804</td>\n",
       "      <td>M</td>\n",
       "      <td>Y</td>\n",
       "      <td>Y</td>\n",
       "      <td>0</td>\n",
       "      <td>427500.0</td>\n",
       "      <td>Working</td>\n",
       "      <td>Higher education</td>\n",
       "      <td>Civil marriage</td>\n",
       "      <td>Rented apartment</td>\n",
       "      <td>-12005</td>\n",
       "      <td>-4542</td>\n",
       "      <td>1</td>\n",
       "      <td>1</td>\n",
       "      <td>0</td>\n",
       "      <td>0</td>\n",
       "      <td>NaN</td>\n",
       "      <td>2.0</td>\n",
       "    </tr>\n",
       "    <tr>\n",
       "      <th>1</th>\n",
       "      <td>5008805</td>\n",
       "      <td>M</td>\n",
       "      <td>Y</td>\n",
       "      <td>Y</td>\n",
       "      <td>0</td>\n",
       "      <td>427500.0</td>\n",
       "      <td>Working</td>\n",
       "      <td>Higher education</td>\n",
       "      <td>Civil marriage</td>\n",
       "      <td>Rented apartment</td>\n",
       "      <td>-12005</td>\n",
       "      <td>-4542</td>\n",
       "      <td>1</td>\n",
       "      <td>1</td>\n",
       "      <td>0</td>\n",
       "      <td>0</td>\n",
       "      <td>NaN</td>\n",
       "      <td>2.0</td>\n",
       "    </tr>\n",
       "    <tr>\n",
       "      <th>2</th>\n",
       "      <td>5008806</td>\n",
       "      <td>M</td>\n",
       "      <td>Y</td>\n",
       "      <td>Y</td>\n",
       "      <td>0</td>\n",
       "      <td>112500.0</td>\n",
       "      <td>Working</td>\n",
       "      <td>Secondary / secondary special</td>\n",
       "      <td>Married</td>\n",
       "      <td>House / apartment</td>\n",
       "      <td>-21474</td>\n",
       "      <td>-1134</td>\n",
       "      <td>1</td>\n",
       "      <td>0</td>\n",
       "      <td>0</td>\n",
       "      <td>0</td>\n",
       "      <td>Security staff</td>\n",
       "      <td>2.0</td>\n",
       "    </tr>\n",
       "    <tr>\n",
       "      <th>3</th>\n",
       "      <td>5008808</td>\n",
       "      <td>F</td>\n",
       "      <td>N</td>\n",
       "      <td>Y</td>\n",
       "      <td>0</td>\n",
       "      <td>270000.0</td>\n",
       "      <td>Commercial associate</td>\n",
       "      <td>Secondary / secondary special</td>\n",
       "      <td>Single / not married</td>\n",
       "      <td>House / apartment</td>\n",
       "      <td>-19110</td>\n",
       "      <td>-3051</td>\n",
       "      <td>1</td>\n",
       "      <td>0</td>\n",
       "      <td>1</td>\n",
       "      <td>1</td>\n",
       "      <td>Sales staff</td>\n",
       "      <td>1.0</td>\n",
       "    </tr>\n",
       "    <tr>\n",
       "      <th>4</th>\n",
       "      <td>5008809</td>\n",
       "      <td>F</td>\n",
       "      <td>N</td>\n",
       "      <td>Y</td>\n",
       "      <td>0</td>\n",
       "      <td>270000.0</td>\n",
       "      <td>Commercial associate</td>\n",
       "      <td>Secondary / secondary special</td>\n",
       "      <td>Single / not married</td>\n",
       "      <td>House / apartment</td>\n",
       "      <td>-19110</td>\n",
       "      <td>-3051</td>\n",
       "      <td>1</td>\n",
       "      <td>0</td>\n",
       "      <td>1</td>\n",
       "      <td>1</td>\n",
       "      <td>Sales staff</td>\n",
       "      <td>1.0</td>\n",
       "    </tr>\n",
       "  </tbody>\n",
       "</table>\n",
       "</div>"
      ],
      "text/plain": [
       "        ID CODE_GENDER FLAG_OWN_CAR FLAG_OWN_REALTY  CNT_CHILDREN  \\\n",
       "0  5008804           M            Y               Y             0   \n",
       "1  5008805           M            Y               Y             0   \n",
       "2  5008806           M            Y               Y             0   \n",
       "3  5008808           F            N               Y             0   \n",
       "4  5008809           F            N               Y             0   \n",
       "\n",
       "   AMT_INCOME_TOTAL      NAME_INCOME_TYPE            NAME_EDUCATION_TYPE  \\\n",
       "0          427500.0               Working               Higher education   \n",
       "1          427500.0               Working               Higher education   \n",
       "2          112500.0               Working  Secondary / secondary special   \n",
       "3          270000.0  Commercial associate  Secondary / secondary special   \n",
       "4          270000.0  Commercial associate  Secondary / secondary special   \n",
       "\n",
       "     NAME_FAMILY_STATUS  NAME_HOUSING_TYPE  DAYS_BIRTH  DAYS_EMPLOYED  \\\n",
       "0        Civil marriage   Rented apartment      -12005          -4542   \n",
       "1        Civil marriage   Rented apartment      -12005          -4542   \n",
       "2               Married  House / apartment      -21474          -1134   \n",
       "3  Single / not married  House / apartment      -19110          -3051   \n",
       "4  Single / not married  House / apartment      -19110          -3051   \n",
       "\n",
       "   FLAG_MOBIL  FLAG_WORK_PHONE  FLAG_PHONE  FLAG_EMAIL OCCUPATION_TYPE  \\\n",
       "0           1                1           0           0             NaN   \n",
       "1           1                1           0           0             NaN   \n",
       "2           1                0           0           0  Security staff   \n",
       "3           1                0           1           1     Sales staff   \n",
       "4           1                0           1           1     Sales staff   \n",
       "\n",
       "   CNT_FAM_MEMBERS  \n",
       "0              2.0  \n",
       "1              2.0  \n",
       "2              2.0  \n",
       "3              1.0  \n",
       "4              1.0  "
      ]
     },
     "execution_count": 3,
     "metadata": {},
     "output_type": "execute_result"
    }
   ],
   "source": [
    "application.head()"
   ]
  },
  {
   "cell_type": "code",
   "execution_count": 4,
   "id": "57def573",
   "metadata": {},
   "outputs": [
    {
     "data": {
      "text/html": [
       "<div>\n",
       "<style scoped>\n",
       "    .dataframe tbody tr th:only-of-type {\n",
       "        vertical-align: middle;\n",
       "    }\n",
       "\n",
       "    .dataframe tbody tr th {\n",
       "        vertical-align: top;\n",
       "    }\n",
       "\n",
       "    .dataframe thead th {\n",
       "        text-align: right;\n",
       "    }\n",
       "</style>\n",
       "<table border=\"1\" class=\"dataframe\">\n",
       "  <thead>\n",
       "    <tr style=\"text-align: right;\">\n",
       "      <th></th>\n",
       "      <th>ID</th>\n",
       "      <th>MONTHS_BALANCE</th>\n",
       "      <th>STATUS</th>\n",
       "    </tr>\n",
       "  </thead>\n",
       "  <tbody>\n",
       "    <tr>\n",
       "      <th>1048570</th>\n",
       "      <td>5150487</td>\n",
       "      <td>-25</td>\n",
       "      <td>C</td>\n",
       "    </tr>\n",
       "    <tr>\n",
       "      <th>1048571</th>\n",
       "      <td>5150487</td>\n",
       "      <td>-26</td>\n",
       "      <td>C</td>\n",
       "    </tr>\n",
       "    <tr>\n",
       "      <th>1048572</th>\n",
       "      <td>5150487</td>\n",
       "      <td>-27</td>\n",
       "      <td>C</td>\n",
       "    </tr>\n",
       "    <tr>\n",
       "      <th>1048573</th>\n",
       "      <td>5150487</td>\n",
       "      <td>-28</td>\n",
       "      <td>C</td>\n",
       "    </tr>\n",
       "    <tr>\n",
       "      <th>1048574</th>\n",
       "      <td>5150487</td>\n",
       "      <td>-29</td>\n",
       "      <td>C</td>\n",
       "    </tr>\n",
       "  </tbody>\n",
       "</table>\n",
       "</div>"
      ],
      "text/plain": [
       "              ID  MONTHS_BALANCE STATUS\n",
       "1048570  5150487             -25      C\n",
       "1048571  5150487             -26      C\n",
       "1048572  5150487             -27      C\n",
       "1048573  5150487             -28      C\n",
       "1048574  5150487             -29      C"
      ]
     },
     "execution_count": 4,
     "metadata": {},
     "output_type": "execute_result"
    }
   ],
   "source": [
    "credit.tail()"
   ]
  },
  {
   "cell_type": "code",
   "execution_count": 5,
   "id": "625f3c21",
   "metadata": {},
   "outputs": [
    {
     "name": "stdout",
     "output_type": "stream",
     "text": [
      "Application Record:\n",
      "No. of records: 438557\n",
      "No. of features: 18\n",
      "\n",
      "Credit Record:\n",
      "No. of records: 1048575\n",
      "No. of features: 3\n"
     ]
    }
   ],
   "source": [
    "print('Application Record:')\n",
    "print(f'No. of records: {application.shape[0]}')\n",
    "print(f'No. of features: {application.shape[1]}')\n",
    "print()\n",
    "print('Credit Record:')\n",
    "print(f'No. of records: {credit.shape[0]}')\n",
    "print(f'No. of features: {credit.shape[1]}')"
   ]
  },
  {
   "cell_type": "code",
   "execution_count": 6,
   "id": "b7d09ce8",
   "metadata": {},
   "outputs": [
    {
     "name": "stdout",
     "output_type": "stream",
     "text": [
      "Application basic summary:\n",
      "<class 'pandas.core.frame.DataFrame'>\n",
      "RangeIndex: 438557 entries, 0 to 438556\n",
      "Data columns (total 18 columns):\n",
      " #   Column               Non-Null Count   Dtype  \n",
      "---  ------               --------------   -----  \n",
      " 0   ID                   438557 non-null  int64  \n",
      " 1   CODE_GENDER          438557 non-null  object \n",
      " 2   FLAG_OWN_CAR         438557 non-null  object \n",
      " 3   FLAG_OWN_REALTY      438557 non-null  object \n",
      " 4   CNT_CHILDREN         438557 non-null  int64  \n",
      " 5   AMT_INCOME_TOTAL     438557 non-null  float64\n",
      " 6   NAME_INCOME_TYPE     438557 non-null  object \n",
      " 7   NAME_EDUCATION_TYPE  438557 non-null  object \n",
      " 8   NAME_FAMILY_STATUS   438557 non-null  object \n",
      " 9   NAME_HOUSING_TYPE    438557 non-null  object \n",
      " 10  DAYS_BIRTH           438557 non-null  int64  \n",
      " 11  DAYS_EMPLOYED        438557 non-null  int64  \n",
      " 12  FLAG_MOBIL           438557 non-null  int64  \n",
      " 13  FLAG_WORK_PHONE      438557 non-null  int64  \n",
      " 14  FLAG_PHONE           438557 non-null  int64  \n",
      " 15  FLAG_EMAIL           438557 non-null  int64  \n",
      " 16  OCCUPATION_TYPE      304354 non-null  object \n",
      " 17  CNT_FAM_MEMBERS      438557 non-null  float64\n",
      "dtypes: float64(2), int64(8), object(8)\n",
      "memory usage: 60.2+ MB\n",
      "None\n",
      "\n",
      "Credit basic summary:\n",
      "<class 'pandas.core.frame.DataFrame'>\n",
      "RangeIndex: 1048575 entries, 0 to 1048574\n",
      "Data columns (total 3 columns):\n",
      " #   Column          Non-Null Count    Dtype \n",
      "---  ------          --------------    ----- \n",
      " 0   ID              1048575 non-null  int64 \n",
      " 1   MONTHS_BALANCE  1048575 non-null  int64 \n",
      " 2   STATUS          1048575 non-null  object\n",
      "dtypes: int64(2), object(1)\n",
      "memory usage: 24.0+ MB\n",
      "None\n"
     ]
    }
   ],
   "source": [
    "print('Application basic summary:')\n",
    "print(application.info())\n",
    "print()\n",
    "print('Credit basic summary:')\n",
    "print(credit.info())"
   ]
  },
  {
   "cell_type": "markdown",
   "id": "0ff7c405",
   "metadata": {},
   "source": [
    "### Data Preparation and Initial Calculations\n",
    "\n",
    "Group and organize account activity data by customer (ID)."
   ]
  },
  {
   "cell_type": "code",
   "execution_count": 7,
   "id": "a0486989",
   "metadata": {},
   "outputs": [],
   "source": [
    "# Group data by 'ID'\n",
    "grouped_data = credit.groupby('ID')"
   ]
  },
  {
   "cell_type": "markdown",
   "id": "ca3e2b24",
   "metadata": {},
   "source": [
    "### Calculate Account Timeline\n",
    "\n",
    "Determine when accounts were opened, closed, and how long they were observed.\n",
    "\n",
    "**account_open_month:**\n",
    "- The first month an account was observed (or opened).\n",
    "- Useful for tracking customer tenure and account life cycles.\n",
    "\n",
    "**account_end_month:**\n",
    "- The most recent month the account was active (could indicate account closure or last observed activity).\n",
    "\n",
    "**observation_window:**\n",
    "- The total number of months the account was tracked, calculated as the difference between account_end_month and account_open_month.\n",
    "- This helps assess how long the account has been monitored, which is crucial for evaluating customer credit behavior over time.\n"
   ]
  },
  {
   "cell_type": "code",
   "execution_count": 8,
   "id": "cac3fa8f",
   "metadata": {},
   "outputs": [
    {
     "data": {
      "text/html": [
       "<div>\n",
       "<style scoped>\n",
       "    .dataframe tbody tr th:only-of-type {\n",
       "        vertical-align: middle;\n",
       "    }\n",
       "\n",
       "    .dataframe tbody tr th {\n",
       "        vertical-align: top;\n",
       "    }\n",
       "\n",
       "    .dataframe thead th {\n",
       "        text-align: right;\n",
       "    }\n",
       "</style>\n",
       "<table border=\"1\" class=\"dataframe\">\n",
       "  <thead>\n",
       "    <tr style=\"text-align: right;\">\n",
       "      <th></th>\n",
       "      <th>ID</th>\n",
       "      <th>MONTHS_BALANCE</th>\n",
       "      <th>STATUS</th>\n",
       "      <th>account_open_month</th>\n",
       "      <th>account_end_month</th>\n",
       "      <th>observation_window</th>\n",
       "    </tr>\n",
       "  </thead>\n",
       "  <tbody>\n",
       "    <tr>\n",
       "      <th>0</th>\n",
       "      <td>5001711</td>\n",
       "      <td>0</td>\n",
       "      <td>X</td>\n",
       "      <td>-3</td>\n",
       "      <td>0</td>\n",
       "      <td>3</td>\n",
       "    </tr>\n",
       "    <tr>\n",
       "      <th>1</th>\n",
       "      <td>5001711</td>\n",
       "      <td>-1</td>\n",
       "      <td>0</td>\n",
       "      <td>-3</td>\n",
       "      <td>0</td>\n",
       "      <td>3</td>\n",
       "    </tr>\n",
       "    <tr>\n",
       "      <th>2</th>\n",
       "      <td>5001711</td>\n",
       "      <td>-2</td>\n",
       "      <td>0</td>\n",
       "      <td>-3</td>\n",
       "      <td>0</td>\n",
       "      <td>3</td>\n",
       "    </tr>\n",
       "    <tr>\n",
       "      <th>3</th>\n",
       "      <td>5001711</td>\n",
       "      <td>-3</td>\n",
       "      <td>0</td>\n",
       "      <td>-3</td>\n",
       "      <td>0</td>\n",
       "      <td>3</td>\n",
       "    </tr>\n",
       "    <tr>\n",
       "      <th>4</th>\n",
       "      <td>5001712</td>\n",
       "      <td>0</td>\n",
       "      <td>C</td>\n",
       "      <td>-18</td>\n",
       "      <td>0</td>\n",
       "      <td>18</td>\n",
       "    </tr>\n",
       "  </tbody>\n",
       "</table>\n",
       "</div>"
      ],
      "text/plain": [
       "        ID  MONTHS_BALANCE STATUS  account_open_month  account_end_month  \\\n",
       "0  5001711               0      X                  -3                  0   \n",
       "1  5001711              -1      0                  -3                  0   \n",
       "2  5001711              -2      0                  -3                  0   \n",
       "3  5001711              -3      0                  -3                  0   \n",
       "4  5001712               0      C                 -18                  0   \n",
       "\n",
       "   observation_window  \n",
       "0                   3  \n",
       "1                   3  \n",
       "2                   3  \n",
       "3                   3  \n",
       "4                  18  "
      ]
     },
     "execution_count": 8,
     "metadata": {},
     "output_type": "execute_result"
    }
   ],
   "source": [
    "# Convert data to wide format: each 'ID' becomes a row\n",
    "pivot_table = credit.pivot(index='ID', columns='MONTHS_BALANCE', values='STATUS')\n",
    "\n",
    "# Calculate 'account_open_month' and 'account_end_month' for each ID\n",
    "pivot_table['account_open_month'] = grouped_data['MONTHS_BALANCE'].min()\n",
    "pivot_table['account_end_month'] = grouped_data['MONTHS_BALANCE'].max()  # Largest value of 'MONTHS_BALANCE'\n",
    "\n",
    "# Add 'ID' as a column and rearrange\n",
    "pivot_table['ID'] = pivot_table.index\n",
    "pivot_table = pivot_table[['ID', 'account_open_month', 'account_end_month']]\n",
    "\n",
    "# Calculate the observation window\n",
    "pivot_table['observation_window'] = pivot_table['account_end_month'] - pivot_table['account_open_month']\n",
    "\n",
    "# Reset index of the pivot table\n",
    "pivot_table.reset_index(drop=True, inplace=True)\n",
    "\n",
    "# Merge calculated information back to the original DataFrame\n",
    "credit = pd.merge(credit, pivot_table, on='ID', how='left')\n",
    "credit.head()"
   ]
  },
  {
   "cell_type": "markdown",
   "id": "5689b50b",
   "metadata": {},
   "source": [
    "### Analyze Overdue Accounts\n",
    "\n",
    "- Identifies overdue accounts:\n",
    "    - `overdue_flag` = 1: Overdue (indicating >60 days past due).\n",
    "    - `overdue_flag` = 0: Not overdue.\n",
    "\n",
    "- Calculates `months_since_open` to track the timeline of each account."
   ]
  },
  {
   "cell_type": "code",
   "execution_count": 9,
   "id": "252a6b14",
   "metadata": {},
   "outputs": [
    {
     "data": {
      "text/html": [
       "<div>\n",
       "<style scoped>\n",
       "    .dataframe tbody tr th:only-of-type {\n",
       "        vertical-align: middle;\n",
       "    }\n",
       "\n",
       "    .dataframe tbody tr th {\n",
       "        vertical-align: top;\n",
       "    }\n",
       "\n",
       "    .dataframe thead th {\n",
       "        text-align: right;\n",
       "    }\n",
       "</style>\n",
       "<table border=\"1\" class=\"dataframe\">\n",
       "  <thead>\n",
       "    <tr style=\"text-align: right;\">\n",
       "      <th></th>\n",
       "      <th>ID</th>\n",
       "      <th>MONTHS_BALANCE</th>\n",
       "      <th>STATUS</th>\n",
       "      <th>account_open_month</th>\n",
       "      <th>account_end_month</th>\n",
       "      <th>observation_window</th>\n",
       "      <th>overdue_flag</th>\n",
       "      <th>months_since_open</th>\n",
       "    </tr>\n",
       "  </thead>\n",
       "  <tbody>\n",
       "    <tr>\n",
       "      <th>3</th>\n",
       "      <td>5001711</td>\n",
       "      <td>-3</td>\n",
       "      <td>0</td>\n",
       "      <td>-3</td>\n",
       "      <td>0</td>\n",
       "      <td>3</td>\n",
       "      <td>0</td>\n",
       "      <td>0</td>\n",
       "    </tr>\n",
       "    <tr>\n",
       "      <th>2</th>\n",
       "      <td>5001711</td>\n",
       "      <td>-2</td>\n",
       "      <td>0</td>\n",
       "      <td>-3</td>\n",
       "      <td>0</td>\n",
       "      <td>3</td>\n",
       "      <td>0</td>\n",
       "      <td>1</td>\n",
       "    </tr>\n",
       "    <tr>\n",
       "      <th>1</th>\n",
       "      <td>5001711</td>\n",
       "      <td>-1</td>\n",
       "      <td>0</td>\n",
       "      <td>-3</td>\n",
       "      <td>0</td>\n",
       "      <td>3</td>\n",
       "      <td>0</td>\n",
       "      <td>2</td>\n",
       "    </tr>\n",
       "    <tr>\n",
       "      <th>0</th>\n",
       "      <td>5001711</td>\n",
       "      <td>0</td>\n",
       "      <td>X</td>\n",
       "      <td>-3</td>\n",
       "      <td>0</td>\n",
       "      <td>3</td>\n",
       "      <td>0</td>\n",
       "      <td>3</td>\n",
       "    </tr>\n",
       "    <tr>\n",
       "      <th>22</th>\n",
       "      <td>5001712</td>\n",
       "      <td>-18</td>\n",
       "      <td>0</td>\n",
       "      <td>-18</td>\n",
       "      <td>0</td>\n",
       "      <td>18</td>\n",
       "      <td>0</td>\n",
       "      <td>0</td>\n",
       "    </tr>\n",
       "  </tbody>\n",
       "</table>\n",
       "</div>"
      ],
      "text/plain": [
       "         ID  MONTHS_BALANCE STATUS  account_open_month  account_end_month  \\\n",
       "3   5001711              -3      0                  -3                  0   \n",
       "2   5001711              -2      0                  -3                  0   \n",
       "1   5001711              -1      0                  -3                  0   \n",
       "0   5001711               0      X                  -3                  0   \n",
       "22  5001712             -18      0                 -18                  0   \n",
       "\n",
       "    observation_window  overdue_flag  months_since_open  \n",
       "3                    3             0                  0  \n",
       "2                    3             0                  1  \n",
       "1                    3             0                  2  \n",
       "0                    3             0                  3  \n",
       "22                  18             0                  0  "
      ]
     },
     "execution_count": 9,
     "metadata": {},
     "output_type": "execute_result"
    }
   ],
   "source": [
    "# Analyze overdue accounts: overdue_flag = 1 for overdue (> 60 days past due), otherwise 0\n",
    "credit['overdue_flag'] = np.where(credit['STATUS'].isin(['2', '3', '4', '5']), 1, 0)\n",
    "credit['overdue_flag'] = credit['overdue_flag'].astype(np.int8)\n",
    "\n",
    "# Calculate 'months_since_open': months since the account was opened\n",
    "credit['months_since_open'] = credit['MONTHS_BALANCE'] - credit['account_open_month']\n",
    "\n",
    "# Sort data by 'ID' and 'months_since_open'\n",
    "credit.sort_values(by=['ID', 'months_since_open'], inplace=True)\n",
    "\n",
    "credit.head()"
   ]
  },
  {
   "cell_type": "markdown",
   "id": "346b529a",
   "metadata": {},
   "source": [
    "### Understanding Account Opening Trends\n",
    "Objective: Analyze when customers opened their accounts.\n",
    "\n",
    "- Groups accounts by their account_open_month to count the number of accounts opened during each month.\n",
    "- Useful for identifying trends in account activity."
   ]
  },
  {
   "cell_type": "code",
   "execution_count": 10,
   "id": "df6e41ba",
   "metadata": {},
   "outputs": [
    {
     "data": {
      "text/html": [
       "<div>\n",
       "<style scoped>\n",
       "    .dataframe tbody tr th:only-of-type {\n",
       "        vertical-align: middle;\n",
       "    }\n",
       "\n",
       "    .dataframe tbody tr th {\n",
       "        vertical-align: top;\n",
       "    }\n",
       "\n",
       "    .dataframe thead th {\n",
       "        text-align: right;\n",
       "    }\n",
       "</style>\n",
       "<table border=\"1\" class=\"dataframe\">\n",
       "  <thead>\n",
       "    <tr style=\"text-align: right;\">\n",
       "      <th></th>\n",
       "      <th>account_open_month</th>\n",
       "      <th>account_count</th>\n",
       "    </tr>\n",
       "  </thead>\n",
       "  <tbody>\n",
       "    <tr>\n",
       "      <th>0</th>\n",
       "      <td>-60</td>\n",
       "      <td>415</td>\n",
       "    </tr>\n",
       "    <tr>\n",
       "      <th>1</th>\n",
       "      <td>-59</td>\n",
       "      <td>406</td>\n",
       "    </tr>\n",
       "    <tr>\n",
       "      <th>2</th>\n",
       "      <td>-58</td>\n",
       "      <td>440</td>\n",
       "    </tr>\n",
       "    <tr>\n",
       "      <th>3</th>\n",
       "      <td>-57</td>\n",
       "      <td>400</td>\n",
       "    </tr>\n",
       "    <tr>\n",
       "      <th>4</th>\n",
       "      <td>-56</td>\n",
       "      <td>470</td>\n",
       "    </tr>\n",
       "  </tbody>\n",
       "</table>\n",
       "</div>"
      ],
      "text/plain": [
       "   account_open_month  account_count\n",
       "0                 -60            415\n",
       "1                 -59            406\n",
       "2                 -58            440\n",
       "3                 -57            400\n",
       "4                 -56            470"
      ]
     },
     "execution_count": 10,
     "metadata": {},
     "output_type": "execute_result"
    }
   ],
   "source": [
    "# Count how many users opened accounts in each month\n",
    "accounts_by_open_month = pivot_table.groupby(['account_open_month']).agg({'ID': 'count'}).reset_index()\n",
    "accounts_by_open_month.columns = ['account_open_month', 'account_count']\n",
    "\n",
    "# Display the accounts_by_open_month table\n",
    "accounts_by_open_month.head()"
   ]
  },
  {
   "cell_type": "markdown",
   "id": "67b7332c",
   "metadata": {},
   "source": [
    "### Customer Segmentation\n",
    "\n",
    "Objective: Categorize customers as high-risk (overdue) or low-risk (not overdue).\n",
    "\n",
    "\n",
    "**High Risk Customers (overdue_accounts):**\n",
    "- Includes customers who have experienced at least one overdue payment.\n",
    "- Risk Status = 1: High-risk customers with overdue payments.\n",
    "\n",
    "**Low Risk Customers (non_overdue_accounts):**\n",
    "- Includes customers who have never had overdue payments.\n",
    "- Risk Status = 0: Low-risk customers with no overdue payments."
   ]
  },
  {
   "cell_type": "code",
   "execution_count": 11,
   "id": "3c65134f",
   "metadata": {},
   "outputs": [],
   "source": [
    "# Calculate the maximum overdue_flag per ID\n",
    "credit['Risk Status'] = credit.groupby('ID')['overdue_flag'].transform('max')\n",
    "# Split the data into overdue (overdue_accounts) and not overdue (non_overdue_accounts)\n",
    "overdue_accounts = credit.loc[credit['Risk Status'] == 1]\n",
    "non_overdue_accounts = credit.loc[credit['Risk Status'] == 0]"
   ]
  },
  {
   "cell_type": "markdown",
   "id": "78b34dc1",
   "metadata": {},
   "source": [
    "### Summarize Overdue and Non-Overdue Accounts\n",
    "\n",
    "Calculate key metrics for overdue and non-overdue customers.\n",
    "\n",
    "**Non-Overdue Customers:**\n",
    "- For customers with no overdue payments (Risk Status = 0):\n",
    "    - months_since_open (max):\n",
    "        - Captures the total duration of account activity for low-risk customers.\n",
    "\n",
    "**Overdue Customers:**\n",
    "- For customers with overdue payments (Risk Status = 1):\n",
    "    - months_since_open (min):\n",
    "        - Captures the month when the customer first became overdue. This helps pinpoint when their risk profile changed."
   ]
  },
  {
   "cell_type": "code",
   "execution_count": 12,
   "id": "b476de5e",
   "metadata": {},
   "outputs": [],
   "source": [
    "# Group non-overdue accounts and get the maximum 'months_since_open' and 'max_overdue_flag'\n",
    "non_overdue_summary = non_overdue_accounts.groupby('ID').agg({\n",
    "    'months_since_open': 'max',\n",
    "    'Risk Status': 'max'\n",
    "}).reset_index()\n",
    "non_overdue_summary.columns = ['ID', 'months_since_open', 'Risk Status']\n",
    "\n",
    "# Group overdue accounts and get the minimum 'months_since_open' for the first overdue occurrence\n",
    "overdue_summary = overdue_accounts.loc[overdue_accounts['overdue_flag'] == 1].groupby('ID').agg({\n",
    "    'months_since_open': 'min',\n",
    "    'Risk Status': 'max'\n",
    "}).reset_index()\n",
    "overdue_summary.columns = ['ID', 'months_since_open', 'Risk Status']"
   ]
  },
  {
   "cell_type": "markdown",
   "id": "c0bc3586",
   "metadata": {},
   "source": [
    "###  Final Output: Customer Risk Profile\n",
    "Objective: Combine high-risk and low-risk summaries into a single dataset."
   ]
  },
  {
   "cell_type": "code",
   "execution_count": 13,
   "id": "8ca093dc",
   "metadata": {},
   "outputs": [
    {
     "data": {
      "text/html": [
       "<div>\n",
       "<style scoped>\n",
       "    .dataframe tbody tr th:only-of-type {\n",
       "        vertical-align: middle;\n",
       "    }\n",
       "\n",
       "    .dataframe tbody tr th {\n",
       "        vertical-align: top;\n",
       "    }\n",
       "\n",
       "    .dataframe thead th {\n",
       "        text-align: right;\n",
       "    }\n",
       "</style>\n",
       "<table border=\"1\" class=\"dataframe\">\n",
       "  <thead>\n",
       "    <tr style=\"text-align: right;\">\n",
       "      <th></th>\n",
       "      <th>ID</th>\n",
       "      <th>months_since_open</th>\n",
       "      <th>Risk Status</th>\n",
       "    </tr>\n",
       "  </thead>\n",
       "  <tbody>\n",
       "    <tr>\n",
       "      <th>0</th>\n",
       "      <td>5001711</td>\n",
       "      <td>3</td>\n",
       "      <td>0</td>\n",
       "    </tr>\n",
       "    <tr>\n",
       "      <th>1</th>\n",
       "      <td>5001712</td>\n",
       "      <td>18</td>\n",
       "      <td>0</td>\n",
       "    </tr>\n",
       "    <tr>\n",
       "      <th>2</th>\n",
       "      <td>5001713</td>\n",
       "      <td>21</td>\n",
       "      <td>0</td>\n",
       "    </tr>\n",
       "    <tr>\n",
       "      <th>3</th>\n",
       "      <td>5001714</td>\n",
       "      <td>14</td>\n",
       "      <td>0</td>\n",
       "    </tr>\n",
       "    <tr>\n",
       "      <th>4</th>\n",
       "      <td>5001715</td>\n",
       "      <td>59</td>\n",
       "      <td>0</td>\n",
       "    </tr>\n",
       "    <tr>\n",
       "      <th>...</th>\n",
       "      <td>...</td>\n",
       "      <td>...</td>\n",
       "      <td>...</td>\n",
       "    </tr>\n",
       "    <tr>\n",
       "      <th>45980</th>\n",
       "      <td>5149834</td>\n",
       "      <td>8</td>\n",
       "      <td>1</td>\n",
       "    </tr>\n",
       "    <tr>\n",
       "      <th>45981</th>\n",
       "      <td>5149838</td>\n",
       "      <td>8</td>\n",
       "      <td>1</td>\n",
       "    </tr>\n",
       "    <tr>\n",
       "      <th>45982</th>\n",
       "      <td>5150049</td>\n",
       "      <td>9</td>\n",
       "      <td>1</td>\n",
       "    </tr>\n",
       "    <tr>\n",
       "      <th>45983</th>\n",
       "      <td>5150238</td>\n",
       "      <td>48</td>\n",
       "      <td>1</td>\n",
       "    </tr>\n",
       "    <tr>\n",
       "      <th>45984</th>\n",
       "      <td>5150337</td>\n",
       "      <td>3</td>\n",
       "      <td>1</td>\n",
       "    </tr>\n",
       "  </tbody>\n",
       "</table>\n",
       "<p>45985 rows × 3 columns</p>\n",
       "</div>"
      ],
      "text/plain": [
       "            ID  months_since_open  Risk Status\n",
       "0      5001711                  3            0\n",
       "1      5001712                 18            0\n",
       "2      5001713                 21            0\n",
       "3      5001714                 14            0\n",
       "4      5001715                 59            0\n",
       "...        ...                ...          ...\n",
       "45980  5149834                  8            1\n",
       "45981  5149838                  8            1\n",
       "45982  5150049                  9            1\n",
       "45983  5150238                 48            1\n",
       "45984  5150337                  3            1\n",
       "\n",
       "[45985 rows x 3 columns]"
      ]
     },
     "execution_count": 13,
     "metadata": {},
     "output_type": "execute_result"
    }
   ],
   "source": [
    "# Concatenate both datasets to create a combined summary\n",
    "customer_summary = pd.concat([non_overdue_summary, overdue_summary], ignore_index=True)\n",
    "\n",
    "# Display the final combined DataFrame\n",
    "customer_summary"
   ]
  },
  {
   "cell_type": "markdown",
   "id": "f03ffeb7",
   "metadata": {},
   "source": [
    "### Merge Datasets & Handle Missing Values\n",
    "Combine the summarized credit data with the application data and handle missing values."
   ]
  },
  {
   "cell_type": "code",
   "execution_count": 14,
   "id": "0aaece15",
   "metadata": {},
   "outputs": [
    {
     "data": {
      "text/html": [
       "<div>\n",
       "<style scoped>\n",
       "    .dataframe tbody tr th:only-of-type {\n",
       "        vertical-align: middle;\n",
       "    }\n",
       "\n",
       "    .dataframe tbody tr th {\n",
       "        vertical-align: top;\n",
       "    }\n",
       "\n",
       "    .dataframe thead th {\n",
       "        text-align: right;\n",
       "    }\n",
       "</style>\n",
       "<table border=\"1\" class=\"dataframe\">\n",
       "  <thead>\n",
       "    <tr style=\"text-align: right;\">\n",
       "      <th></th>\n",
       "      <th>ID</th>\n",
       "      <th>months_since_open</th>\n",
       "      <th>Risk Status</th>\n",
       "      <th>CODE_GENDER</th>\n",
       "      <th>FLAG_OWN_CAR</th>\n",
       "      <th>FLAG_OWN_REALTY</th>\n",
       "      <th>CNT_CHILDREN</th>\n",
       "      <th>AMT_INCOME_TOTAL</th>\n",
       "      <th>NAME_INCOME_TYPE</th>\n",
       "      <th>NAME_EDUCATION_TYPE</th>\n",
       "      <th>NAME_FAMILY_STATUS</th>\n",
       "      <th>NAME_HOUSING_TYPE</th>\n",
       "      <th>DAYS_BIRTH</th>\n",
       "      <th>DAYS_EMPLOYED</th>\n",
       "      <th>FLAG_MOBIL</th>\n",
       "      <th>FLAG_WORK_PHONE</th>\n",
       "      <th>FLAG_PHONE</th>\n",
       "      <th>FLAG_EMAIL</th>\n",
       "      <th>OCCUPATION_TYPE</th>\n",
       "      <th>CNT_FAM_MEMBERS</th>\n",
       "    </tr>\n",
       "  </thead>\n",
       "  <tbody>\n",
       "    <tr>\n",
       "      <th>0</th>\n",
       "      <td>5001711</td>\n",
       "      <td>3</td>\n",
       "      <td>0</td>\n",
       "      <td>NaN</td>\n",
       "      <td>NaN</td>\n",
       "      <td>NaN</td>\n",
       "      <td>NaN</td>\n",
       "      <td>NaN</td>\n",
       "      <td>NaN</td>\n",
       "      <td>NaN</td>\n",
       "      <td>NaN</td>\n",
       "      <td>NaN</td>\n",
       "      <td>NaN</td>\n",
       "      <td>NaN</td>\n",
       "      <td>NaN</td>\n",
       "      <td>NaN</td>\n",
       "      <td>NaN</td>\n",
       "      <td>NaN</td>\n",
       "      <td>NaN</td>\n",
       "      <td>NaN</td>\n",
       "    </tr>\n",
       "    <tr>\n",
       "      <th>1</th>\n",
       "      <td>5001712</td>\n",
       "      <td>18</td>\n",
       "      <td>0</td>\n",
       "      <td>NaN</td>\n",
       "      <td>NaN</td>\n",
       "      <td>NaN</td>\n",
       "      <td>NaN</td>\n",
       "      <td>NaN</td>\n",
       "      <td>NaN</td>\n",
       "      <td>NaN</td>\n",
       "      <td>NaN</td>\n",
       "      <td>NaN</td>\n",
       "      <td>NaN</td>\n",
       "      <td>NaN</td>\n",
       "      <td>NaN</td>\n",
       "      <td>NaN</td>\n",
       "      <td>NaN</td>\n",
       "      <td>NaN</td>\n",
       "      <td>NaN</td>\n",
       "      <td>NaN</td>\n",
       "    </tr>\n",
       "    <tr>\n",
       "      <th>2</th>\n",
       "      <td>5001713</td>\n",
       "      <td>21</td>\n",
       "      <td>0</td>\n",
       "      <td>NaN</td>\n",
       "      <td>NaN</td>\n",
       "      <td>NaN</td>\n",
       "      <td>NaN</td>\n",
       "      <td>NaN</td>\n",
       "      <td>NaN</td>\n",
       "      <td>NaN</td>\n",
       "      <td>NaN</td>\n",
       "      <td>NaN</td>\n",
       "      <td>NaN</td>\n",
       "      <td>NaN</td>\n",
       "      <td>NaN</td>\n",
       "      <td>NaN</td>\n",
       "      <td>NaN</td>\n",
       "      <td>NaN</td>\n",
       "      <td>NaN</td>\n",
       "      <td>NaN</td>\n",
       "    </tr>\n",
       "    <tr>\n",
       "      <th>3</th>\n",
       "      <td>5001714</td>\n",
       "      <td>14</td>\n",
       "      <td>0</td>\n",
       "      <td>NaN</td>\n",
       "      <td>NaN</td>\n",
       "      <td>NaN</td>\n",
       "      <td>NaN</td>\n",
       "      <td>NaN</td>\n",
       "      <td>NaN</td>\n",
       "      <td>NaN</td>\n",
       "      <td>NaN</td>\n",
       "      <td>NaN</td>\n",
       "      <td>NaN</td>\n",
       "      <td>NaN</td>\n",
       "      <td>NaN</td>\n",
       "      <td>NaN</td>\n",
       "      <td>NaN</td>\n",
       "      <td>NaN</td>\n",
       "      <td>NaN</td>\n",
       "      <td>NaN</td>\n",
       "    </tr>\n",
       "    <tr>\n",
       "      <th>4</th>\n",
       "      <td>5001715</td>\n",
       "      <td>59</td>\n",
       "      <td>0</td>\n",
       "      <td>NaN</td>\n",
       "      <td>NaN</td>\n",
       "      <td>NaN</td>\n",
       "      <td>NaN</td>\n",
       "      <td>NaN</td>\n",
       "      <td>NaN</td>\n",
       "      <td>NaN</td>\n",
       "      <td>NaN</td>\n",
       "      <td>NaN</td>\n",
       "      <td>NaN</td>\n",
       "      <td>NaN</td>\n",
       "      <td>NaN</td>\n",
       "      <td>NaN</td>\n",
       "      <td>NaN</td>\n",
       "      <td>NaN</td>\n",
       "      <td>NaN</td>\n",
       "      <td>NaN</td>\n",
       "    </tr>\n",
       "    <tr>\n",
       "      <th>...</th>\n",
       "      <td>...</td>\n",
       "      <td>...</td>\n",
       "      <td>...</td>\n",
       "      <td>...</td>\n",
       "      <td>...</td>\n",
       "      <td>...</td>\n",
       "      <td>...</td>\n",
       "      <td>...</td>\n",
       "      <td>...</td>\n",
       "      <td>...</td>\n",
       "      <td>...</td>\n",
       "      <td>...</td>\n",
       "      <td>...</td>\n",
       "      <td>...</td>\n",
       "      <td>...</td>\n",
       "      <td>...</td>\n",
       "      <td>...</td>\n",
       "      <td>...</td>\n",
       "      <td>...</td>\n",
       "      <td>...</td>\n",
       "    </tr>\n",
       "    <tr>\n",
       "      <th>45980</th>\n",
       "      <td>5149834</td>\n",
       "      <td>8</td>\n",
       "      <td>1</td>\n",
       "      <td>F</td>\n",
       "      <td>N</td>\n",
       "      <td>Y</td>\n",
       "      <td>0.0</td>\n",
       "      <td>157500.0</td>\n",
       "      <td>Commercial associate</td>\n",
       "      <td>Higher education</td>\n",
       "      <td>Married</td>\n",
       "      <td>House / apartment</td>\n",
       "      <td>-12387.0</td>\n",
       "      <td>-1325.0</td>\n",
       "      <td>1.0</td>\n",
       "      <td>0.0</td>\n",
       "      <td>1.0</td>\n",
       "      <td>1.0</td>\n",
       "      <td>Medicine staff</td>\n",
       "      <td>2.0</td>\n",
       "    </tr>\n",
       "    <tr>\n",
       "      <th>45981</th>\n",
       "      <td>5149838</td>\n",
       "      <td>8</td>\n",
       "      <td>1</td>\n",
       "      <td>F</td>\n",
       "      <td>N</td>\n",
       "      <td>Y</td>\n",
       "      <td>0.0</td>\n",
       "      <td>157500.0</td>\n",
       "      <td>Pensioner</td>\n",
       "      <td>Higher education</td>\n",
       "      <td>Married</td>\n",
       "      <td>House / apartment</td>\n",
       "      <td>-12387.0</td>\n",
       "      <td>-1325.0</td>\n",
       "      <td>1.0</td>\n",
       "      <td>0.0</td>\n",
       "      <td>1.0</td>\n",
       "      <td>1.0</td>\n",
       "      <td>Medicine staff</td>\n",
       "      <td>2.0</td>\n",
       "    </tr>\n",
       "    <tr>\n",
       "      <th>45982</th>\n",
       "      <td>5150049</td>\n",
       "      <td>9</td>\n",
       "      <td>1</td>\n",
       "      <td>F</td>\n",
       "      <td>N</td>\n",
       "      <td>Y</td>\n",
       "      <td>0.0</td>\n",
       "      <td>283500.0</td>\n",
       "      <td>Working</td>\n",
       "      <td>Secondary / secondary special</td>\n",
       "      <td>Married</td>\n",
       "      <td>House / apartment</td>\n",
       "      <td>-17958.0</td>\n",
       "      <td>-655.0</td>\n",
       "      <td>1.0</td>\n",
       "      <td>0.0</td>\n",
       "      <td>0.0</td>\n",
       "      <td>0.0</td>\n",
       "      <td>Sales staff</td>\n",
       "      <td>2.0</td>\n",
       "    </tr>\n",
       "    <tr>\n",
       "      <th>45983</th>\n",
       "      <td>5150238</td>\n",
       "      <td>48</td>\n",
       "      <td>1</td>\n",
       "      <td>F</td>\n",
       "      <td>Y</td>\n",
       "      <td>Y</td>\n",
       "      <td>0.0</td>\n",
       "      <td>90000.0</td>\n",
       "      <td>Working</td>\n",
       "      <td>Secondary / secondary special</td>\n",
       "      <td>Married</td>\n",
       "      <td>House / apartment</td>\n",
       "      <td>-19084.0</td>\n",
       "      <td>-128.0</td>\n",
       "      <td>1.0</td>\n",
       "      <td>1.0</td>\n",
       "      <td>0.0</td>\n",
       "      <td>0.0</td>\n",
       "      <td>Laborers</td>\n",
       "      <td>2.0</td>\n",
       "    </tr>\n",
       "    <tr>\n",
       "      <th>45984</th>\n",
       "      <td>5150337</td>\n",
       "      <td>3</td>\n",
       "      <td>1</td>\n",
       "      <td>M</td>\n",
       "      <td>N</td>\n",
       "      <td>Y</td>\n",
       "      <td>0.0</td>\n",
       "      <td>112500.0</td>\n",
       "      <td>Working</td>\n",
       "      <td>Secondary / secondary special</td>\n",
       "      <td>Single / not married</td>\n",
       "      <td>Rented apartment</td>\n",
       "      <td>-9188.0</td>\n",
       "      <td>-1193.0</td>\n",
       "      <td>1.0</td>\n",
       "      <td>0.0</td>\n",
       "      <td>0.0</td>\n",
       "      <td>0.0</td>\n",
       "      <td>Laborers</td>\n",
       "      <td>1.0</td>\n",
       "    </tr>\n",
       "  </tbody>\n",
       "</table>\n",
       "<p>45985 rows × 20 columns</p>\n",
       "</div>"
      ],
      "text/plain": [
       "            ID  months_since_open  Risk Status CODE_GENDER FLAG_OWN_CAR  \\\n",
       "0      5001711                  3            0         NaN          NaN   \n",
       "1      5001712                 18            0         NaN          NaN   \n",
       "2      5001713                 21            0         NaN          NaN   \n",
       "3      5001714                 14            0         NaN          NaN   \n",
       "4      5001715                 59            0         NaN          NaN   \n",
       "...        ...                ...          ...         ...          ...   \n",
       "45980  5149834                  8            1           F            N   \n",
       "45981  5149838                  8            1           F            N   \n",
       "45982  5150049                  9            1           F            N   \n",
       "45983  5150238                 48            1           F            Y   \n",
       "45984  5150337                  3            1           M            N   \n",
       "\n",
       "      FLAG_OWN_REALTY  CNT_CHILDREN  AMT_INCOME_TOTAL      NAME_INCOME_TYPE  \\\n",
       "0                 NaN           NaN               NaN                   NaN   \n",
       "1                 NaN           NaN               NaN                   NaN   \n",
       "2                 NaN           NaN               NaN                   NaN   \n",
       "3                 NaN           NaN               NaN                   NaN   \n",
       "4                 NaN           NaN               NaN                   NaN   \n",
       "...               ...           ...               ...                   ...   \n",
       "45980               Y           0.0          157500.0  Commercial associate   \n",
       "45981               Y           0.0          157500.0             Pensioner   \n",
       "45982               Y           0.0          283500.0               Working   \n",
       "45983               Y           0.0           90000.0               Working   \n",
       "45984               Y           0.0          112500.0               Working   \n",
       "\n",
       "                 NAME_EDUCATION_TYPE    NAME_FAMILY_STATUS  NAME_HOUSING_TYPE  \\\n",
       "0                                NaN                   NaN                NaN   \n",
       "1                                NaN                   NaN                NaN   \n",
       "2                                NaN                   NaN                NaN   \n",
       "3                                NaN                   NaN                NaN   \n",
       "4                                NaN                   NaN                NaN   \n",
       "...                              ...                   ...                ...   \n",
       "45980               Higher education               Married  House / apartment   \n",
       "45981               Higher education               Married  House / apartment   \n",
       "45982  Secondary / secondary special               Married  House / apartment   \n",
       "45983  Secondary / secondary special               Married  House / apartment   \n",
       "45984  Secondary / secondary special  Single / not married   Rented apartment   \n",
       "\n",
       "       DAYS_BIRTH  DAYS_EMPLOYED  FLAG_MOBIL  FLAG_WORK_PHONE  FLAG_PHONE  \\\n",
       "0             NaN            NaN         NaN              NaN         NaN   \n",
       "1             NaN            NaN         NaN              NaN         NaN   \n",
       "2             NaN            NaN         NaN              NaN         NaN   \n",
       "3             NaN            NaN         NaN              NaN         NaN   \n",
       "4             NaN            NaN         NaN              NaN         NaN   \n",
       "...           ...            ...         ...              ...         ...   \n",
       "45980    -12387.0        -1325.0         1.0              0.0         1.0   \n",
       "45981    -12387.0        -1325.0         1.0              0.0         1.0   \n",
       "45982    -17958.0         -655.0         1.0              0.0         0.0   \n",
       "45983    -19084.0         -128.0         1.0              1.0         0.0   \n",
       "45984     -9188.0        -1193.0         1.0              0.0         0.0   \n",
       "\n",
       "       FLAG_EMAIL OCCUPATION_TYPE  CNT_FAM_MEMBERS  \n",
       "0             NaN             NaN              NaN  \n",
       "1             NaN             NaN              NaN  \n",
       "2             NaN             NaN              NaN  \n",
       "3             NaN             NaN              NaN  \n",
       "4             NaN             NaN              NaN  \n",
       "...           ...             ...              ...  \n",
       "45980         1.0  Medicine staff              2.0  \n",
       "45981         1.0  Medicine staff              2.0  \n",
       "45982         0.0     Sales staff              2.0  \n",
       "45983         0.0        Laborers              2.0  \n",
       "45984         0.0        Laborers              1.0  \n",
       "\n",
       "[45985 rows x 20 columns]"
      ]
     },
     "execution_count": 14,
     "metadata": {},
     "output_type": "execute_result"
    }
   ],
   "source": [
    "df = pd.merge(customer_summary, application, on = 'ID', how = 'left')\n",
    "df"
   ]
  },
  {
   "cell_type": "code",
   "execution_count": 15,
   "id": "06d278c8",
   "metadata": {},
   "outputs": [
    {
     "name": "stdout",
     "output_type": "stream",
     "text": [
      "<class 'pandas.core.frame.DataFrame'>\n",
      "RangeIndex: 45985 entries, 0 to 45984\n",
      "Data columns (total 20 columns):\n",
      " #   Column               Non-Null Count  Dtype  \n",
      "---  ------               --------------  -----  \n",
      " 0   ID                   45985 non-null  int64  \n",
      " 1   months_since_open    45985 non-null  int64  \n",
      " 2   Risk Status          45985 non-null  int8   \n",
      " 3   CODE_GENDER          36457 non-null  object \n",
      " 4   FLAG_OWN_CAR         36457 non-null  object \n",
      " 5   FLAG_OWN_REALTY      36457 non-null  object \n",
      " 6   CNT_CHILDREN         36457 non-null  float64\n",
      " 7   AMT_INCOME_TOTAL     36457 non-null  float64\n",
      " 8   NAME_INCOME_TYPE     36457 non-null  object \n",
      " 9   NAME_EDUCATION_TYPE  36457 non-null  object \n",
      " 10  NAME_FAMILY_STATUS   36457 non-null  object \n",
      " 11  NAME_HOUSING_TYPE    36457 non-null  object \n",
      " 12  DAYS_BIRTH           36457 non-null  float64\n",
      " 13  DAYS_EMPLOYED        36457 non-null  float64\n",
      " 14  FLAG_MOBIL           36457 non-null  float64\n",
      " 15  FLAG_WORK_PHONE      36457 non-null  float64\n",
      " 16  FLAG_PHONE           36457 non-null  float64\n",
      " 17  FLAG_EMAIL           36457 non-null  float64\n",
      " 18  OCCUPATION_TYPE      25134 non-null  object \n",
      " 19  CNT_FAM_MEMBERS      36457 non-null  float64\n",
      "dtypes: float64(9), int64(2), int8(1), object(8)\n",
      "memory usage: 6.7+ MB\n"
     ]
    }
   ],
   "source": [
    "df.info()"
   ]
  },
  {
   "cell_type": "code",
   "execution_count": 16,
   "id": "fa683a1e",
   "metadata": {},
   "outputs": [
    {
     "data": {
      "text/plain": [
       "ID                         0\n",
       "months_since_open          0\n",
       "Risk Status                0\n",
       "CODE_GENDER             9528\n",
       "FLAG_OWN_CAR            9528\n",
       "FLAG_OWN_REALTY         9528\n",
       "CNT_CHILDREN            9528\n",
       "AMT_INCOME_TOTAL        9528\n",
       "NAME_INCOME_TYPE        9528\n",
       "NAME_EDUCATION_TYPE     9528\n",
       "NAME_FAMILY_STATUS      9528\n",
       "NAME_HOUSING_TYPE       9528\n",
       "DAYS_BIRTH              9528\n",
       "DAYS_EMPLOYED           9528\n",
       "FLAG_MOBIL              9528\n",
       "FLAG_WORK_PHONE         9528\n",
       "FLAG_PHONE              9528\n",
       "FLAG_EMAIL              9528\n",
       "OCCUPATION_TYPE        20851\n",
       "CNT_FAM_MEMBERS         9528\n",
       "dtype: int64"
      ]
     },
     "execution_count": 16,
     "metadata": {},
     "output_type": "execute_result"
    }
   ],
   "source": [
    "df.isnull().sum()"
   ]
  },
  {
   "cell_type": "code",
   "execution_count": 17,
   "id": "250b5ae9",
   "metadata": {},
   "outputs": [],
   "source": [
    "df.dropna(inplace=True)"
   ]
  },
  {
   "cell_type": "markdown",
   "id": "bfe2b414",
   "metadata": {},
   "source": [
    "### Statistical Exploration"
   ]
  },
  {
   "cell_type": "code",
   "execution_count": 18,
   "id": "3da21293",
   "metadata": {},
   "outputs": [
    {
     "data": {
      "text/html": [
       "<div>\n",
       "<style scoped>\n",
       "    .dataframe tbody tr th:only-of-type {\n",
       "        vertical-align: middle;\n",
       "    }\n",
       "\n",
       "    .dataframe tbody tr th {\n",
       "        vertical-align: top;\n",
       "    }\n",
       "\n",
       "    .dataframe thead th {\n",
       "        text-align: right;\n",
       "    }\n",
       "</style>\n",
       "<table border=\"1\" class=\"dataframe\">\n",
       "  <thead>\n",
       "    <tr style=\"text-align: right;\">\n",
       "      <th></th>\n",
       "      <th>count</th>\n",
       "      <th>mean</th>\n",
       "      <th>std</th>\n",
       "      <th>min</th>\n",
       "      <th>25%</th>\n",
       "      <th>50%</th>\n",
       "      <th>75%</th>\n",
       "      <th>max</th>\n",
       "    </tr>\n",
       "  </thead>\n",
       "  <tbody>\n",
       "    <tr>\n",
       "      <th>ID</th>\n",
       "      <td>25134.0</td>\n",
       "      <td>5.078838e+06</td>\n",
       "      <td>41941.018788</td>\n",
       "      <td>5008806.0</td>\n",
       "      <td>5042228.25</td>\n",
       "      <td>5079004.0</td>\n",
       "      <td>5115603.75</td>\n",
       "      <td>5150487.0</td>\n",
       "    </tr>\n",
       "    <tr>\n",
       "      <th>months_since_open</th>\n",
       "      <td>25134.0</td>\n",
       "      <td>2.002797e+01</td>\n",
       "      <td>14.729175</td>\n",
       "      <td>0.0</td>\n",
       "      <td>8.00</td>\n",
       "      <td>16.0</td>\n",
       "      <td>30.00</td>\n",
       "      <td>60.0</td>\n",
       "    </tr>\n",
       "    <tr>\n",
       "      <th>Risk Status</th>\n",
       "      <td>25134.0</td>\n",
       "      <td>1.679001e-02</td>\n",
       "      <td>0.128486</td>\n",
       "      <td>0.0</td>\n",
       "      <td>0.00</td>\n",
       "      <td>0.0</td>\n",
       "      <td>0.00</td>\n",
       "      <td>1.0</td>\n",
       "    </tr>\n",
       "    <tr>\n",
       "      <th>CNT_CHILDREN</th>\n",
       "      <td>25134.0</td>\n",
       "      <td>5.123339e-01</td>\n",
       "      <td>0.787785</td>\n",
       "      <td>0.0</td>\n",
       "      <td>0.00</td>\n",
       "      <td>0.0</td>\n",
       "      <td>1.00</td>\n",
       "      <td>19.0</td>\n",
       "    </tr>\n",
       "    <tr>\n",
       "      <th>AMT_INCOME_TOTAL</th>\n",
       "      <td>25134.0</td>\n",
       "      <td>1.948339e+05</td>\n",
       "      <td>104510.987243</td>\n",
       "      <td>27000.0</td>\n",
       "      <td>135000.00</td>\n",
       "      <td>180000.0</td>\n",
       "      <td>225000.00</td>\n",
       "      <td>1575000.0</td>\n",
       "    </tr>\n",
       "    <tr>\n",
       "      <th>DAYS_BIRTH</th>\n",
       "      <td>25134.0</td>\n",
       "      <td>-1.479404e+04</td>\n",
       "      <td>3486.969790</td>\n",
       "      <td>-24611.0</td>\n",
       "      <td>-17438.00</td>\n",
       "      <td>-14547.0</td>\n",
       "      <td>-11964.00</td>\n",
       "      <td>-7489.0</td>\n",
       "    </tr>\n",
       "    <tr>\n",
       "      <th>DAYS_EMPLOYED</th>\n",
       "      <td>25134.0</td>\n",
       "      <td>-2.624941e+03</td>\n",
       "      <td>2339.224822</td>\n",
       "      <td>-15713.0</td>\n",
       "      <td>-3484.00</td>\n",
       "      <td>-1942.0</td>\n",
       "      <td>-979.00</td>\n",
       "      <td>-17.0</td>\n",
       "    </tr>\n",
       "    <tr>\n",
       "      <th>FLAG_MOBIL</th>\n",
       "      <td>25134.0</td>\n",
       "      <td>1.000000e+00</td>\n",
       "      <td>0.000000</td>\n",
       "      <td>1.0</td>\n",
       "      <td>1.00</td>\n",
       "      <td>1.0</td>\n",
       "      <td>1.00</td>\n",
       "      <td>1.0</td>\n",
       "    </tr>\n",
       "    <tr>\n",
       "      <th>FLAG_WORK_PHONE</th>\n",
       "      <td>25134.0</td>\n",
       "      <td>2.738124e-01</td>\n",
       "      <td>0.445923</td>\n",
       "      <td>0.0</td>\n",
       "      <td>0.00</td>\n",
       "      <td>0.0</td>\n",
       "      <td>1.00</td>\n",
       "      <td>1.0</td>\n",
       "    </tr>\n",
       "    <tr>\n",
       "      <th>FLAG_PHONE</th>\n",
       "      <td>25134.0</td>\n",
       "      <td>2.927906e-01</td>\n",
       "      <td>0.455052</td>\n",
       "      <td>0.0</td>\n",
       "      <td>0.00</td>\n",
       "      <td>0.0</td>\n",
       "      <td>1.00</td>\n",
       "      <td>1.0</td>\n",
       "    </tr>\n",
       "    <tr>\n",
       "      <th>FLAG_EMAIL</th>\n",
       "      <td>25134.0</td>\n",
       "      <td>1.006605e-01</td>\n",
       "      <td>0.300885</td>\n",
       "      <td>0.0</td>\n",
       "      <td>0.00</td>\n",
       "      <td>0.0</td>\n",
       "      <td>0.00</td>\n",
       "      <td>1.0</td>\n",
       "    </tr>\n",
       "    <tr>\n",
       "      <th>CNT_FAM_MEMBERS</th>\n",
       "      <td>25134.0</td>\n",
       "      <td>2.294064e+00</td>\n",
       "      <td>0.947590</td>\n",
       "      <td>1.0</td>\n",
       "      <td>2.00</td>\n",
       "      <td>2.0</td>\n",
       "      <td>3.00</td>\n",
       "      <td>20.0</td>\n",
       "    </tr>\n",
       "  </tbody>\n",
       "</table>\n",
       "</div>"
      ],
      "text/plain": [
       "                     count          mean            std        min  \\\n",
       "ID                 25134.0  5.078838e+06   41941.018788  5008806.0   \n",
       "months_since_open  25134.0  2.002797e+01      14.729175        0.0   \n",
       "Risk Status        25134.0  1.679001e-02       0.128486        0.0   \n",
       "CNT_CHILDREN       25134.0  5.123339e-01       0.787785        0.0   \n",
       "AMT_INCOME_TOTAL   25134.0  1.948339e+05  104510.987243    27000.0   \n",
       "DAYS_BIRTH         25134.0 -1.479404e+04    3486.969790   -24611.0   \n",
       "DAYS_EMPLOYED      25134.0 -2.624941e+03    2339.224822   -15713.0   \n",
       "FLAG_MOBIL         25134.0  1.000000e+00       0.000000        1.0   \n",
       "FLAG_WORK_PHONE    25134.0  2.738124e-01       0.445923        0.0   \n",
       "FLAG_PHONE         25134.0  2.927906e-01       0.455052        0.0   \n",
       "FLAG_EMAIL         25134.0  1.006605e-01       0.300885        0.0   \n",
       "CNT_FAM_MEMBERS    25134.0  2.294064e+00       0.947590        1.0   \n",
       "\n",
       "                          25%        50%         75%        max  \n",
       "ID                 5042228.25  5079004.0  5115603.75  5150487.0  \n",
       "months_since_open        8.00       16.0       30.00       60.0  \n",
       "Risk Status              0.00        0.0        0.00        1.0  \n",
       "CNT_CHILDREN             0.00        0.0        1.00       19.0  \n",
       "AMT_INCOME_TOTAL    135000.00   180000.0   225000.00  1575000.0  \n",
       "DAYS_BIRTH          -17438.00   -14547.0   -11964.00    -7489.0  \n",
       "DAYS_EMPLOYED        -3484.00    -1942.0     -979.00      -17.0  \n",
       "FLAG_MOBIL               1.00        1.0        1.00        1.0  \n",
       "FLAG_WORK_PHONE          0.00        0.0        1.00        1.0  \n",
       "FLAG_PHONE               0.00        0.0        1.00        1.0  \n",
       "FLAG_EMAIL               0.00        0.0        0.00        1.0  \n",
       "CNT_FAM_MEMBERS          2.00        2.0        3.00       20.0  "
      ]
     },
     "execution_count": 18,
     "metadata": {},
     "output_type": "execute_result"
    }
   ],
   "source": [
    "df.describe().T"
   ]
  },
  {
   "cell_type": "markdown",
   "id": "b9251ac1",
   "metadata": {},
   "source": [
    "### Risk Status Distribution"
   ]
  },
  {
   "cell_type": "markdown",
   "id": "a2f7ef41",
   "metadata": {},
   "source": [
    "The `Risk Status Distribution` barplot reveals a significant class imbalance, with 98.32% of customers classified as low risk (0) and only 1.68% as high risk (1). This disparity can skew machine learning models toward predicting the majority class, compromising their ability to detect high-risk customers. To mitigate this, suitable methods will be implemented to handle the imbalance effectively."
   ]
  },
  {
   "cell_type": "code",
   "execution_count": 19,
   "id": "a62680ce",
   "metadata": {},
   "outputs": [
    {
     "data": {
      "image/png": "[encoded data removed]",
      "text/plain": [
       "<Figure size 640x480 with 1 Axes>"
      ]
     },
     "metadata": {},
     "output_type": "display_data"
    }
   ],
   "source": [
    "# Calculate the value counts and percentages\n",
    "value_counts = df['Risk Status'].value_counts()\n",
    "percentages = (value_counts / value_counts.sum()) * 100\n",
    "\n",
    "# Customizing the bar chart to make \"1\" red and others default\n",
    "colors = ['#B8001F' if index == 1 else '#FCFAEE' for index in value_counts.index]\n",
    "\n",
    "# Plot the bar chart\n",
    "ax = value_counts.plot(kind='bar', color=colors)\n",
    "\n",
    "# Annotate each bar with the percentage\n",
    "for i, count in enumerate(value_counts):\n",
    "    percentage = f\"{percentages[i]:.2f}%\"\n",
    "    ax.text(i, count + 500, percentage, ha='center', fontsize=10)  # Adjusts the text position\n",
    "\n",
    "# Set y-axis limit\n",
    "plt.ylim(0, value_counts.max() + 5000)  # Increases y-axis limit for better visibility\n",
    "\n",
    "# Remove y-axis ticks\n",
    "plt.yticks([])\n",
    "\n",
    "# Add titles and labels\n",
    "plt.title('Risk Status Distribution')\n",
    "plt.xlabel('Risk Status')\n",
    "plt.ylabel('')\n",
    "plt.xticks(rotation=0)\n",
    "\n",
    "# Create custom legend patches\n",
    "low_risk_patch = mpatches.Patch(color='#FCFAEE', label='0 = Low Risk')\n",
    "high_risk_patch = mpatches.Patch(color='#B8001F', label='1 = High Risk')\n",
    "\n",
    "# Add legend\n",
    "plt.legend(handles=[low_risk_patch, high_risk_patch], loc='upper right')\n",
    "\n",
    "\n",
    "plt.tight_layout();"
   ]
  },
  {
   "cell_type": "markdown",
   "id": "b5ae2028",
   "metadata": {},
   "source": [
    "## Feature Selection using Random Forest Importance Score\n",
    "\n",
    "- Purpose: Utilize Random Forest to determine the most important features for predicting risk status.\n",
    "\n",
    "- Approach: Features with importance scores above the average were selected for modeling, while irrelevant features, such as `ID`, were excluded as they do not contribute meaningful insights to the analysis.\n",
    "\n",
    "- Outcome: The feature importance analysis highlighted the top contributors to risk status prediction: `months_since_open`, `DAYS_EMPLOYED`, `DAYS_BIRTH`, `AMT_INCOME_TOTAL`, and `OCCUPATION_TYPE`. These features effectively capture customer behavior and demographic characteristics essential for assessing credit risk."
   ]
  },
  {
   "cell_type": "code",
   "execution_count": 20,
   "id": "15244285",
   "metadata": {},
   "outputs": [],
   "source": [
    "df = df.drop(columns='ID')"
   ]
  },
  {
   "cell_type": "code",
   "execution_count": 21,
   "id": "f24fd578",
   "metadata": {},
   "outputs": [],
   "source": [
    "df1 = df.copy()"
   ]
  },
  {
   "cell_type": "markdown",
   "id": "bec2e4a4",
   "metadata": {},
   "source": [
    "### Encode Categorical Features\n",
    "\n",
    "Convert categorical columns into numeric format for modeling.\n",
    "\n",
    "Ordinal Encoding:\n",
    "- Encodes `NAME_EDUCATION_TYPE` based on an educational hierarchy.\n",
    "\n",
    "Label Encoding:\n",
    "- Converts categorical columns into numeric codes."
   ]
  },
  {
   "cell_type": "code",
   "execution_count": 22,
   "id": "8d816e0f",
   "metadata": {},
   "outputs": [
    {
     "data": {
      "text/plain": [
       "Index(['CODE_GENDER', 'FLAG_OWN_CAR', 'FLAG_OWN_REALTY', 'NAME_INCOME_TYPE',\n",
       "       'NAME_EDUCATION_TYPE', 'NAME_FAMILY_STATUS', 'NAME_HOUSING_TYPE',\n",
       "       'OCCUPATION_TYPE'],\n",
       "      dtype='object')"
      ]
     },
     "execution_count": 22,
     "metadata": {},
     "output_type": "execute_result"
    }
   ],
   "source": [
    "df.select_dtypes(include='object').columns"
   ]
  },
  {
   "cell_type": "code",
   "execution_count": 23,
   "id": "0c04221c",
   "metadata": {},
   "outputs": [],
   "source": [
    "# Define the order for ordinal encoding\n",
    "education_order = [\n",
    "    'Lower secondary',\n",
    "    'Secondary / secondary special',\n",
    "    'Incomplete higher',\n",
    "    'Higher education',\n",
    "    'Academic degree'\n",
    "]\n",
    "\n",
    "# Apply ordinal encoding using a mapping\n",
    "education_mapping = {level: idx for idx, level in enumerate(education_order)}\n",
    "df['NAME_EDUCATION_TYPE'] = df['NAME_EDUCATION_TYPE'].map(education_mapping)"
   ]
  },
  {
   "cell_type": "code",
   "execution_count": 24,
   "id": "c08f7448",
   "metadata": {},
   "outputs": [],
   "source": [
    "# Columns to apply label encoding\n",
    "columns_to_encode = [\n",
    "    'CODE_GENDER', 'FLAG_OWN_CAR', 'FLAG_OWN_REALTY', \n",
    "    'NAME_INCOME_TYPE', 'NAME_FAMILY_STATUS', \n",
    "    'NAME_HOUSING_TYPE', 'OCCUPATION_TYPE'\n",
    "]\n",
    "\n",
    "# Initialize the LabelEncoder\n",
    "label_encoders = {}\n",
    "\n",
    "# Apply Label Encoding to each specified column\n",
    "for column in columns_to_encode:\n",
    "    label_encoders[column] = LabelEncoder()  # Store encoders for future use\n",
    "    df[column] = label_encoders[column].fit_transform(df[column])"
   ]
  },
  {
   "cell_type": "code",
   "execution_count": 25,
   "id": "18e1200c",
   "metadata": {},
   "outputs": [],
   "source": [
    "# Split the data into features and target\n",
    "X = df.drop(columns=['Risk Status'])\n",
    "y = df['Risk Status']"
   ]
  },
  {
   "cell_type": "code",
   "execution_count": 26,
   "id": "1d80a55d",
   "metadata": {},
   "outputs": [
    {
     "name": "stdout",
     "output_type": "stream",
     "text": [
      "Feature Importances:\n",
      "                 Feature  Importance\n",
      "0     months_since_open    0.230500\n",
      "11        DAYS_EMPLOYED    0.169753\n",
      "10           DAYS_BIRTH    0.163277\n",
      "5      AMT_INCOME_TOTAL    0.102628\n",
      "16      OCCUPATION_TYPE    0.063753\n",
      "8    NAME_FAMILY_STATUS    0.034899\n",
      "6      NAME_INCOME_TYPE    0.033972\n",
      "17      CNT_FAM_MEMBERS    0.033500\n",
      "7   NAME_EDUCATION_TYPE    0.026296\n",
      "4          CNT_CHILDREN    0.024638\n",
      "9     NAME_HOUSING_TYPE    0.019490\n",
      "2          FLAG_OWN_CAR    0.019461\n",
      "14           FLAG_PHONE    0.018619\n",
      "13      FLAG_WORK_PHONE    0.017770\n",
      "1           CODE_GENDER    0.016425\n",
      "3       FLAG_OWN_REALTY    0.015115\n",
      "15           FLAG_EMAIL    0.009903\n",
      "12           FLAG_MOBIL    0.000000\n"
     ]
    }
   ],
   "source": [
    "# Initialize the Random Forest model\n",
    "rf = RandomForestClassifier(random_state=42)\n",
    "\n",
    "# Fit the model to the data\n",
    "rf.fit(X, y)\n",
    "\n",
    "# Retrieve feature importances\n",
    "feature_importances = rf.feature_importances_\n",
    "\n",
    "# Create a DataFrame for better visualization\n",
    "importance_df = pd.DataFrame({\n",
    "    'Feature': X.columns,\n",
    "    'Importance': feature_importances\n",
    "}).sort_values(by='Importance', ascending=False)\n",
    "\n",
    "# Display feature importances\n",
    "print(\"Feature Importances:\\n\", importance_df)"
   ]
  },
  {
   "cell_type": "code",
   "execution_count": 27,
   "id": "aecdf832",
   "metadata": {},
   "outputs": [
    {
     "data": {
      "image/png": "[encoded data removed]",
      "text/plain": [
       "<Figure size 1000x800 with 1 Axes>"
      ]
     },
     "metadata": {},
     "output_type": "display_data"
    }
   ],
   "source": [
    "# Plot a horizontal bar chart\n",
    "plt.figure(figsize=(10, 8))\n",
    "plt.barh(importance_df['Feature'], importance_df['Importance'], color='skyblue')\n",
    "plt.gca().invert_yaxis()  \n",
    "plt.xlabel('Importance')\n",
    "plt.ylabel('Feature')\n",
    "plt.title('Feature Importances Rank')\n",
    "plt.grid(axis='x');"
   ]
  },
  {
   "cell_type": "code",
   "execution_count": 28,
   "id": "4d758915",
   "metadata": {},
   "outputs": [
    {
     "name": "stdout",
     "output_type": "stream",
     "text": [
      "Selected Features Above Threshold:\n",
      " ['months_since_open', 'DAYS_EMPLOYED', 'DAYS_BIRTH', 'AMT_INCOME_TOTAL', 'OCCUPATION_TYPE']\n"
     ]
    }
   ],
   "source": [
    "# Select features above a certain importance threshold (optional)\n",
    "threshold = np.mean(feature_importances) \n",
    "selected_features = importance_df[importance_df['Importance'] > threshold]['Feature'].tolist()\n",
    "\n",
    "print(\"Selected Features Above Threshold:\\n\", selected_features)"
   ]
  },
  {
   "cell_type": "markdown",
   "id": "58d41e89",
   "metadata": {},
   "source": [
    "### Checking and Handling Outliers"
   ]
  },
  {
   "cell_type": "code",
   "execution_count": 29,
   "id": "f67b4061",
   "metadata": {},
   "outputs": [
    {
     "name": "stdout",
     "output_type": "stream",
     "text": [
      "<class 'pandas.core.frame.DataFrame'>\n",
      "Index: 25134 entries, 3217 to 45984\n",
      "Data columns (total 5 columns):\n",
      " #   Column             Non-Null Count  Dtype  \n",
      "---  ------             --------------  -----  \n",
      " 0   months_since_open  25134 non-null  int64  \n",
      " 1   DAYS_EMPLOYED      25134 non-null  float64\n",
      " 2   DAYS_BIRTH         25134 non-null  float64\n",
      " 3   AMT_INCOME_TOTAL   25134 non-null  float64\n",
      " 4   OCCUPATION_TYPE    25134 non-null  int32  \n",
      "dtypes: float64(3), int32(1), int64(1)\n",
      "memory usage: 1.1 MB\n"
     ]
    }
   ],
   "source": [
    "df[selected_features].info()"
   ]
  },
  {
   "cell_type": "code",
   "execution_count": 30,
   "id": "995b62fc",
   "metadata": {
    "scrolled": false
   },
   "outputs": [
    {
     "data": {
      "image/png": "[encoded data removed]",
      "text/plain": [
       "<Figure size 1000x1500 with 5 Axes>"
      ]
     },
     "metadata": {},
     "output_type": "display_data"
    }
   ],
   "source": [
    "#Select numerical columns\n",
    "numeric_columns = df[selected_features]\n",
    "# Creating a figure with a 5x2 grid of subplots, setting the figure size to 10x15 inches.\n",
    "fig, axes = plt.subplots(6, 2, figsize=(10, 15))\n",
    "# Flattening the 2D grid of subplots into a 1D array for easier iteration.\n",
    "axes = axes.flatten()\n",
    "# Iterating through each numeric column, assigning its index to i and column name to col.\n",
    "for i, col in enumerate(numeric_columns):\n",
    "    # Creating a box plot for the current column on the corresponding subplot, using the 'rocket' color palette.\n",
    "    sns.boxplot(data=df, y=col, ax=axes[i], palette='rocket')\n",
    "    # Setting the title of the current subplot to the column name.\n",
    "    axes[i].set_title(col)\n",
    "# Iterating over the remaining subplots, starting from the next index after the last used subplot.\n",
    "for j in range(i + 1, len(axes)):\n",
    "    # Deleting the unused subplots to clean up the layout.\n",
    "    fig.delaxes(axes[j])\n",
    "# Automatically adjusting the layout to avoid overlapping elements.\n",
    "plt.tight_layout();"
   ]
  },
  {
   "cell_type": "markdown",
   "id": "e1fbfbe5",
   "metadata": {},
   "source": [
    "**DAYS_EMPLOYED**"
   ]
  },
  {
   "cell_type": "markdown",
   "id": "823e1f49",
   "metadata": {},
   "source": [
    "The `DAYS_EMPLOYED` feature contains clear outliers, most notably the value 365,243 (appearing 6135 times), which is an obvious anomaly. This value corresponds to approximately 1000 years, which is unrealistic.\n",
    "\n",
    "IQR-based capping is a robust method to handle the outliers because it relies on percentiles and is less sensitive to extreme values compared to the mean and standard deviation. It ensures that outliers are not removed but are capped to reasonable limits, preserving the structure of the data."
   ]
  },
  {
   "cell_type": "code",
   "execution_count": 31,
   "id": "2223a618",
   "metadata": {},
   "outputs": [
    {
     "data": {
      "text/plain": [
       "count    25134.000000\n",
       "mean     -2624.940877\n",
       "std       2339.224822\n",
       "min     -15713.000000\n",
       "25%      -3484.000000\n",
       "50%      -1942.000000\n",
       "75%       -979.000000\n",
       "max        -17.000000\n",
       "Name: DAYS_EMPLOYED, dtype: float64"
      ]
     },
     "execution_count": 31,
     "metadata": {},
     "output_type": "execute_result"
    }
   ],
   "source": [
    "df['DAYS_EMPLOYED'].describe()"
   ]
  },
  {
   "cell_type": "code",
   "execution_count": 32,
   "id": "fde4af97",
   "metadata": {},
   "outputs": [
    {
     "data": {
      "text/plain": [
       "DAYS_EMPLOYED\n",
       "-401.0           64\n",
       "-1539.0          62\n",
       "-2087.0          53\n",
       "-3234.0          51\n",
       "-1678.0          51\n",
       "                 ..\n",
       "-4025.0           1\n",
       "-4053.0           1\n",
       "-4091.0           1\n",
       "-4098.0           1\n",
       "-15713.0          1\n",
       "Name: count, Length: 3299, dtype: int64"
      ]
     },
     "execution_count": 32,
     "metadata": {},
     "output_type": "execute_result"
    }
   ],
   "source": [
    "df[['DAYS_EMPLOYED']].value_counts()"
   ]
  },
  {
   "cell_type": "code",
   "execution_count": 33,
   "id": "e895f6c3",
   "metadata": {},
   "outputs": [],
   "source": [
    "# Step 1: Calculate Q1 (25th percentile) and Q3 (75th percentile)\n",
    "Q1 = df['DAYS_EMPLOYED'].quantile(0.25)\n",
    "Q3 = df['DAYS_EMPLOYED'].quantile(0.75)\n",
    "\n",
    "# Step 2: Calculate IQR\n",
    "IQR = Q3 - Q1\n",
    "\n",
    "# Step 3: Define lower and upper bounds for capping\n",
    "lower_bound = Q1 - 1.5 * IQR\n",
    "upper_bound = Q3 + 1.5 * IQR\n",
    "\n",
    "# Step 4: Apply capping to DAYS_EMPLOYED\n",
    "df['DAYS_EMPLOYED'] = df['DAYS_EMPLOYED'].apply(lambda x: max(min(x, upper_bound), lower_bound))"
   ]
  },
  {
   "cell_type": "markdown",
   "id": "470f547d",
   "metadata": {},
   "source": [
    "**AMT_INCOME_TOTAL**\n",
    "\n",
    "We have decided to retain the outliers in the `AMT_INCOME_TOTAL` feature because high-income values, while less common, are realistic and represent an important customer segment, such as high-net-worth individuals. Removing these values could distort our analysis, as these clients likely have different financial behavior and lower credit risk. Similarly, the presence of low-income managers reflects real-world scenarios where entry-level, part-time, or small-business managers earn less than their senior counterparts. Retaining these outliers ensures a more comprehensive and accurate model, as it reflects the true diversity of income levels and managerial roles in the dataset."
   ]
  },
  {
   "cell_type": "code",
   "execution_count": 34,
   "id": "b9c892e9",
   "metadata": {},
   "outputs": [
    {
     "data": {
      "text/plain": [
       "count    2.513400e+04\n",
       "mean     1.948339e+05\n",
       "std      1.045110e+05\n",
       "min      2.700000e+04\n",
       "25%      1.350000e+05\n",
       "50%      1.800000e+05\n",
       "75%      2.250000e+05\n",
       "max      1.575000e+06\n",
       "Name: AMT_INCOME_TOTAL, dtype: float64"
      ]
     },
     "execution_count": 34,
     "metadata": {},
     "output_type": "execute_result"
    }
   ],
   "source": [
    "df['AMT_INCOME_TOTAL'].describe()"
   ]
  },
  {
   "cell_type": "code",
   "execution_count": 35,
   "id": "7c6f6bff",
   "metadata": {
    "scrolled": true
   },
   "outputs": [
    {
     "data": {
      "text/plain": [
       "AMT_INCOME_TOTAL\n",
       "135000.0    3012\n",
       "180000.0    2312\n",
       "157500.0    2205\n",
       "225000.0    2169\n",
       "112500.0    1943\n",
       "            ... \n",
       "160200.0       1\n",
       "134995.5       1\n",
       "164250.0       1\n",
       "124200.0       1\n",
       "179271.0       1\n",
       "Name: count, Length: 195, dtype: int64"
      ]
     },
     "execution_count": 35,
     "metadata": {},
     "output_type": "execute_result"
    }
   ],
   "source": [
    "df['AMT_INCOME_TOTAL'].value_counts()"
   ]
  },
  {
   "cell_type": "code",
   "execution_count": 36,
   "id": "d3836350",
   "metadata": {},
   "outputs": [
    {
     "data": {
      "text/plain": [
       "OCCUPATION_TYPE\n",
       "Managers          2\n",
       "Security staff    1\n",
       "Name: count, dtype: int64"
      ]
     },
     "execution_count": 36,
     "metadata": {},
     "output_type": "execute_result"
    }
   ],
   "source": [
    "df1['OCCUPATION_TYPE'][df['AMT_INCOME_TOTAL'] == 27000].value_counts()"
   ]
  },
  {
   "cell_type": "code",
   "execution_count": 37,
   "id": "29d899b0",
   "metadata": {},
   "outputs": [
    {
     "data": {
      "text/plain": [
       "OCCUPATION_TYPE\n",
       "Managers    8\n",
       "Name: count, dtype: int64"
      ]
     },
     "execution_count": 37,
     "metadata": {},
     "output_type": "execute_result"
    }
   ],
   "source": [
    "df1['OCCUPATION_TYPE'][df['AMT_INCOME_TOTAL'] == 1575000.0].value_counts()"
   ]
  },
  {
   "cell_type": "markdown",
   "id": "b8b8c92d",
   "metadata": {},
   "source": [
    "### Validating Outliers Post-Processing"
   ]
  },
  {
   "cell_type": "code",
   "execution_count": 38,
   "id": "29ab99c4",
   "metadata": {},
   "outputs": [
    {
     "data": {
      "image/png": "[encoded data removed]",
      "text/plain": [
       "<Figure size 1000x1500 with 5 Axes>"
      ]
     },
     "metadata": {},
     "output_type": "display_data"
    }
   ],
   "source": [
    "#Select numerical columns\n",
    "numeric_columns = df[selected_features]\n",
    "# Creating a figure with a 5x2 grid of subplots, setting the figure size to 10x15 inches.\n",
    "fig, axes = plt.subplots(6, 2, figsize=(10, 15))\n",
    "# Flattening the 2D grid of subplots into a 1D array for easier iteration.\n",
    "axes = axes.flatten()\n",
    "# Iterating through each numeric column, assigning its index to i and column name to col.\n",
    "for i, col in enumerate(numeric_columns):\n",
    "    # Creating a box plot for the current column on the corresponding subplot, using the 'rocket' color palette.\n",
    "    sns.boxplot(data=df, y=col, ax=axes[i], palette='rocket')\n",
    "    # Setting the title of the current subplot to the column name.\n",
    "    axes[i].set_title(col)\n",
    "# Iterating over the remaining subplots, starting from the next index after the last used subplot.\n",
    "for j in range(i + 1, len(axes)):\n",
    "    # Deleting the unused subplots to clean up the layout.\n",
    "    fig.delaxes(axes[j])\n",
    "# Automatically adjusting the layout to avoid overlapping elements.\n",
    "plt.tight_layout();"
   ]
  },
  {
   "cell_type": "markdown",
   "id": "992a2ab7",
   "metadata": {},
   "source": [
    "### Handling Class Imbalance\n",
    "\n",
    "- **Problem:** If one class (e.g., Risk Status = 1) is underrepresented, models might perform poorly on this minority class.\n",
    "- **Solution:** ADASYN (Adaptive Synthetic Sampling) generates synthetic examples for the minority class, balancing the dataset."
   ]
  },
  {
   "cell_type": "code",
   "execution_count": 39,
   "id": "7b816f4a",
   "metadata": {},
   "outputs": [],
   "source": [
    "X = df[selected_features]"
   ]
  },
  {
   "cell_type": "code",
   "execution_count": 40,
   "id": "2d79c9b2",
   "metadata": {},
   "outputs": [],
   "source": [
    "# Apply ADASYN\n",
    "adasyn = ADASYN(random_state=42)\n",
    "X, y = adasyn.fit_resample(X, y)"
   ]
  },
  {
   "cell_type": "code",
   "execution_count": 41,
   "id": "1265da22",
   "metadata": {},
   "outputs": [
    {
     "data": {
      "image/png": "[encoded data removed]",
      "text/plain": [
       "<Figure size 800x600 with 1 Axes>"
      ]
     },
     "metadata": {},
     "output_type": "display_data"
    }
   ],
   "source": [
    "# Count the occurrences of each class in y after ADASYN\n",
    "class_counts = Counter(y)\n",
    "\n",
    "# Convert counts to a DataFrame for visualization\n",
    "class_distribution = pd.DataFrame.from_dict(class_counts, orient='index', columns=['Count'])\n",
    "class_distribution.reset_index(inplace=True)\n",
    "class_distribution.rename(columns={'index': 'Class'}, inplace=True)\n",
    "\n",
    "# Create custom colors based on the class\n",
    "colors = ['#B8001F' if cls == 1 else '#FCFAEE' for cls in class_distribution['Class']]\n",
    "\n",
    "# Create a bar chart using Seaborn\n",
    "plt.figure(figsize=(8, 6))\n",
    "sns.barplot(data=class_distribution, x='Class', y='Count', palette=colors, hue='Class', legend=False)\n",
    "\n",
    "plt.title('Risk Status Distribution After ADASYN', fontsize=16)\n",
    "plt.xlabel('Risk Status', fontsize=12)\n",
    "plt.ylabel('Count', fontsize=12)\n",
    "plt.tight_layout();\n"
   ]
  },
  {
   "cell_type": "markdown",
   "id": "c7fb7648",
   "metadata": {},
   "source": [
    "### Feature Scaling\n",
    "\n",
    "- Purpose: Standardize the features to ensure all have the same scale.\n",
    "- Standardizes the features to have a mean of 0 and a standard deviation of 1.\n",
    "\n"
   ]
  },
  {
   "cell_type": "code",
   "execution_count": 42,
   "id": "3551c804",
   "metadata": {},
   "outputs": [],
   "source": [
    "# Initialize StandardScaler\n",
    "scaler = StandardScaler()\n",
    "X = scaler.fit_transform(X)"
   ]
  },
  {
   "cell_type": "markdown",
   "id": "679b84e0",
   "metadata": {},
   "source": [
    "### Data Splitting\n",
    "- Purpose: Divide the dataset into training and testing subsets.\n",
    "- Splits the dataset into:\n",
    "    - `X_train`, `y_train`: 70% of the data for training.\n",
    "    - `X_test`, `y_test`: 30% of the data for testing.\n",
    "- Ensures the model is evaluated on unseen data to measure generalization performance."
   ]
  },
  {
   "cell_type": "code",
   "execution_count": 43,
   "id": "d0cc4ef1",
   "metadata": {},
   "outputs": [],
   "source": [
    "X_train, X_test, y_train, y_test = train_test_split(X, y, test_size=0.3, random_state=42)"
   ]
  },
  {
   "cell_type": "markdown",
   "id": "df094432",
   "metadata": {},
   "source": [
    "## Model Training and Evaluation\n",
    "\n",
    "Trains four models:\n",
    "- Logistic Regression: Linear baseline model.\n",
    "- Decision Tree: Baseline tree-based model.\n",
    "- XGBoost: Gradient boosting model for capturing complex relationships.\n",
    "- Random Forest: Ensemble model for robust predictions.\n",
    "\n",
    "Evaluates models using:\n",
    "- Accuracy, F1 Score, Precision, and Recall."
   ]
  },
  {
   "cell_type": "markdown",
   "id": "ed953f60",
   "metadata": {},
   "source": [
    "### Logistic Regression Model\n",
    "- A baseline linear model that predicts the likelihood of risk status.\n"
   ]
  },
  {
   "cell_type": "code",
   "execution_count": 44,
   "id": "f583c03d",
   "metadata": {},
   "outputs": [
    {
     "name": "stdout",
     "output_type": "stream",
     "text": [
      "Model Evaluation Metrics:\n",
      "Accuracy Score: 0.6883\n",
      "F1 Score: 0.6854\n",
      "Precision Score: 0.6952\n",
      "Recall Score: 0.6883\n"
     ]
    }
   ],
   "source": [
    "# Train a Logistic Regression model\n",
    "logreg = LogisticRegression(random_state=42)\n",
    "logreg.fit(X_train, y_train)\n",
    "\n",
    "#Make predictions on the test set\n",
    "y_pred = logreg.predict(X_test)\n",
    "\n",
    "# Evaluate the model\n",
    "accuracy_logreg = accuracy_score(y_test, y_pred)\n",
    "f1_logreg = f1_score(y_test, y_pred, average='weighted')\n",
    "precision_logreg = precision_score(y_test, y_pred, average='weighted')\n",
    "recall_logreg = recall_score(y_test, y_pred, average='weighted')\n",
    "\n",
    "print(\"Model Evaluation Metrics:\")\n",
    "print(f\"Accuracy Score: {accuracy_logreg:.4f}\")\n",
    "print(f\"F1 Score: {f1_logreg:.4f}\")\n",
    "print(f\"Precision Score: {precision_logreg:.4f}\")\n",
    "print(f\"Recall Score: {recall_logreg:.4f}\")\n"
   ]
  },
  {
   "cell_type": "markdown",
   "id": "3d4d6965",
   "metadata": {},
   "source": [
    "### Decision Tree Model\n",
    "- A baseline tree-based algorithm that uses a hierarchical structure to make decisions by splitting data on feature values. \n",
    "- It is intuitive, handles non-linear relationships effectively, and serves as a foundation for more advanced ensemble methods like Random Forest and XGBoost. "
   ]
  },
  {
   "cell_type": "code",
   "execution_count": 45,
   "id": "5b0bba55",
   "metadata": {},
   "outputs": [
    {
     "name": "stdout",
     "output_type": "stream",
     "text": [
      "Decision Tree Model Evaluation Metrics:\n",
      "Accuracy Score: 0.9578\n",
      "F1 Score: 0.9578\n",
      "Precision Score: 0.9579\n",
      "Recall Score: 0.9578\n"
     ]
    }
   ],
   "source": [
    "# Train a Decision Tree model\n",
    "dt = DecisionTreeClassifier(random_state=42)\n",
    "dt.fit(X_train, y_train)\n",
    "\n",
    "# Make predictions on the test set\n",
    "y_pred = dt.predict(X_test)\n",
    "\n",
    "# Evaluate the model\n",
    "accuracy_dt = accuracy_score(y_test, y_pred)\n",
    "f1_dt = f1_score(y_test, y_pred, average='weighted')\n",
    "precision_dt = precision_score(y_test, y_pred, average='weighted')\n",
    "recall_dt = recall_score(y_test, y_pred, average='weighted')\n",
    "\n",
    "print(\"Decision Tree Model Evaluation Metrics:\")\n",
    "print(f\"Accuracy Score: {accuracy_dt:.4f}\")\n",
    "print(f\"F1 Score: {f1_dt:.4f}\")\n",
    "print(f\"Precision Score: {precision_dt:.4f}\")\n",
    "print(f\"Recall Score: {recall_dt:.4f}\")\n"
   ]
  },
  {
   "cell_type": "markdown",
   "id": "abad0c45",
   "metadata": {},
   "source": [
    "### XGBoost Model\n",
    "- A gradient boosting algorithm that builds decision trees sequentially, optimizing for model performance.\n",
    "- Often performs well on structured data due to its ability to handle non-linear relationships and its robustness to overfitting."
   ]
  },
  {
   "cell_type": "code",
   "execution_count": 46,
   "id": "129f1dca",
   "metadata": {},
   "outputs": [
    {
     "name": "stdout",
     "output_type": "stream",
     "text": [
      "Model Evaluation Metrics:\n",
      "Accuracy Score: 0.9488\n",
      "F1 Score: 0.9487\n",
      "Precision Score: 0.9497\n",
      "Recall Score: 0.9488\n"
     ]
    }
   ],
   "source": [
    "# Train an XGBoost model\n",
    "xgb = XGBClassifier(random_state=42) \n",
    "xgb.fit(X_train, y_train)\n",
    "\n",
    "# Make predictions on the test set\n",
    "y_pred = xgb.predict(X_test)\n",
    "\n",
    "# Evaluate the model\n",
    "accuracy_xgb = accuracy_score(y_test, y_pred)\n",
    "f1_xgb = f1_score(y_test, y_pred, average='weighted')\n",
    "precision_xgb = precision_score(y_test, y_pred, average='weighted')\n",
    "recall_xgb = recall_score(y_test, y_pred, average='weighted')\n",
    "\n",
    "print(\"Model Evaluation Metrics:\")\n",
    "print(f\"Accuracy Score: {accuracy_xgb:.4f}\")\n",
    "print(f\"F1 Score: {f1_xgb:.4f}\")\n",
    "print(f\"Precision Score: {precision_xgb:.4f}\")\n",
    "print(f\"Recall Score: {recall_xgb:.4f}\")"
   ]
  },
  {
   "cell_type": "markdown",
   "id": "437d1a5a",
   "metadata": {},
   "source": [
    "### Random Forest Model\n",
    "- An ensemble model that builds multiple decision trees and averages their predictions.\n",
    "- Reduces overfitting by aggregating the results of multiple trees."
   ]
  },
  {
   "cell_type": "code",
   "execution_count": 47,
   "id": "9d44e581",
   "metadata": {},
   "outputs": [
    {
     "name": "stdout",
     "output_type": "stream",
     "text": [
      "Model Evaluation Metrics:\n",
      "Accuracy Score: 0.9820\n",
      "F1 Score: 0.9820\n",
      "Precision Score: 0.9821\n",
      "Recall Score: 0.9820\n"
     ]
    }
   ],
   "source": [
    "# Train a Random Forest model\n",
    "rf = RandomForestClassifier(random_state=42)\n",
    "rf.fit(X_train, y_train)\n",
    "\n",
    "# Make predictions on the test set\n",
    "y_pred = rf.predict(X_test)\n",
    "\n",
    "# Evaluate the model\n",
    "accuracy_rf = accuracy_score(y_test, y_pred)\n",
    "f1_rf = f1_score(y_test, y_pred, average='weighted')\n",
    "precision_rf = precision_score(y_test, y_pred, average='weighted')\n",
    "recall_rf = recall_score(y_test, y_pred, average='weighted')\n",
    "\n",
    "print(\"Model Evaluation Metrics:\")\n",
    "print(f\"Accuracy Score: {accuracy_rf:.4f}\")\n",
    "print(f\"F1 Score: {f1_rf:.4f}\")\n",
    "print(f\"Precision Score: {precision_rf:.4f}\")\n",
    "print(f\"Recall Score: {recall_rf:.4f}\")"
   ]
  },
  {
   "cell_type": "markdown",
   "id": "40d1e17b",
   "metadata": {},
   "source": [
    "### Model Comparison"
   ]
  },
  {
   "cell_type": "markdown",
   "id": "0b180ada",
   "metadata": {},
   "source": [
    "Four machine learning models—Logistic Regression, Decision Tree, XGBoost, and Random Forest—were trained and evaluated to predict customer credit risk. Among these models:\n",
    "\n",
    "- **Logistic Regression:** As a baseline linear model, it performed the weakest, with an accuracy of 68.83% and an F1 score of 0.6854, indicating its inability to capture non-linear relationships.\n",
    "- **Decision Tree:** Achieved an accuracy and F1 score of 95.78%, demonstrating strong performance on the training data but with a risk of overfitting due to its structure.\n",
    "- **XGBoost:** Delivered robust results with an accuracy of 94.87% and an F1 score of 0.9487, showing good generalization and the ability to handle non-linear patterns effectively.\n",
    "- **Random Forest:** Outperformed all other models with an accuracy of 98.20% and an F1 score of 0.982, owing to its ensemble approach, which reduces overfitting and improves predictive reliability.\n",
    "\n",
    "Given its superior metrics, the Random Forest model was selected as the best-performing model for detailed evaluation.\n",
    "\n"
   ]
  },
  {
   "cell_type": "code",
   "execution_count": 48,
   "id": "0e383a82",
   "metadata": {},
   "outputs": [],
   "source": [
    "# Create a dictionary of results\n",
    "results = {\n",
    "    'Model': ['Logistic Regression', 'Decision Tree', 'XGBoost', 'Random Forest'],\n",
    "    'Accuracy': [accuracy_logreg, accuracy_dt, accuracy_xgb, accuracy_rf],\n",
    "    'F1 Score': [f1_logreg, f1_dt, f1_xgb, f1_rf],\n",
    "    'Precision': [precision_logreg, precision_dt, precision_xgb, precision_rf],\n",
    "    'Recall': [recall_logreg, recall_dt, recall_xgb, recall_rf]\n",
    "}\n",
    "\n",
    "# Convert the dictionary into a DataFrame\n",
    "results_df = pd.DataFrame(results)\n",
    "results_df = results_df.round(4)"
   ]
  },
  {
   "cell_type": "code",
   "execution_count": 49,
   "id": "9b2f9bec",
   "metadata": {},
   "outputs": [
    {
     "data": {
      "image/png": "[encoded data removed]",
      "text/plain": [
       "<Figure size 600x600 with 1 Axes>"
      ]
     },
     "metadata": {},
     "output_type": "display_data"
    }
   ],
   "source": [
    "fig, ax = plt.subplots(figsize=(6, 6))  # Increase the figure size\n",
    "ax.axis('tight')\n",
    "ax.axis('off')\n",
    "\n",
    "# Create the table\n",
    "table = ax.table(\n",
    "    cellText=results_df.values, \n",
    "    colLabels=results_df.columns, \n",
    "    loc='center'\n",
    ")\n",
    "\n",
    "# Adjust font size and column width\n",
    "table.auto_set_font_size(False)\n",
    "table.set_fontsize(12)  # Adjust font size for better readability\n",
    "table.auto_set_column_width(col=list(range(len(results_df.columns))))  # Automatically adjust column widths\n",
    "\n",
    "# Adjust row heights to reduce overlap\n",
    "for key, cell in table.get_celld().items():\n",
    "    cell.set_height(0.15)  # Increase the cell height for better spacing\n",
    "\n",
    "plt.title(\"Model Performance Comparison\", fontsize=16);\n"
   ]
  },
  {
   "cell_type": "markdown",
   "id": "5209242a",
   "metadata": {},
   "source": [
    "### Detailed Analysis of Random Forest Model"
   ]
  },
  {
   "cell_type": "markdown",
   "id": "540fc3e6",
   "metadata": {},
   "source": [
    "**Model Metrics:**\n",
    "\n",
    "- The Random Forest model achieved an accuracy of 98.20%, a precision of 0.9821, and a recall of 0.982, indicating exceptional performance in both identifying high-risk customers and minimizing false positives.\n",
    "- The high F1 score of 0.982 confirms its balanced performance, effectively handling the class imbalance in the dataset.\n",
    "\n",
    "**Confusion Matrix:**\n",
    "\n",
    "The confusion matrix reveals:\n",
    "- 7,325 high-risk customers were correctly identified, with only 89 misclassified as low-risk.\n",
    "- 7,223 low-risk customers were correctly classified, with only 177 misclassified as high-risk.\n",
    "\n",
    "These results demonstrate the model's effectiveness in distinguishing between low-risk and high-risk customers, critical for reducing defaults while avoiding unnecessary rejection of low-risk applicants."
   ]
  },
  {
   "cell_type": "code",
   "execution_count": 50,
   "id": "8e3c5db0",
   "metadata": {},
   "outputs": [
    {
     "data": {
      "image/png": "[encoded data removed]",
      "text/plain": [
       "<Figure size 500x500 with 1 Axes>"
      ]
     },
     "metadata": {},
     "output_type": "display_data"
    }
   ],
   "source": [
    "# Train a Random Forest model\n",
    "rf = RandomForestClassifier(random_state=42)\n",
    "rf.fit(X_train, y_train)\n",
    "\n",
    "# Make predictions on the test set\n",
    "y_pred = rf.predict(X_test)\n",
    "\n",
    "# Confusion Matrix \n",
    "conf_matrix = confusion_matrix(y_test, y_pred)\n",
    "\n",
    "plt.figure(figsize=(5, 5))\n",
    "sns.heatmap(conf_matrix, annot=True, fmt='d', xticklabels=['Low', 'High'], yticklabels=['Low', 'High'], cbar=False)\n",
    "plt.title('Confusion Matrix', fontsize=12)\n",
    "plt.xlabel('Predicted Risk Level', fontsize=12)\n",
    "plt.ylabel('Actual Risk Level', fontsize=12)\n",
    "plt.tight_layout();\n"
   ]
  },
  {
   "cell_type": "markdown",
   "id": "3481ed83",
   "metadata": {},
   "source": [
    "**Cross-Validation Random Forest Model**\n",
    "\n",
    "- Purpose: Validate the robustness of the Random Forest model and assess its generalizability to unseen data.\n",
    "- The 5-fold cross-validation yielded a mean accuracy of 89.81% with a low standard deviation of 0.0159. This demonstrates that the model performs consistently across different subsets of the data, indicating that it is not overfitting to the training data.\n",
    "- Overfitting occurs when a model performs exceptionally well on training data but poorly on validation or test data. The consistent accuracy observed during cross-validation confirms that the model maintains its performance across various splits, proving its ability to generalize effectively.\n",
    "- These results reinforce the reliability of the Random Forest model, ensuring its suitability for deployment in real-world credit risk prediction tasks."
   ]
  },
  {
   "cell_type": "code",
   "execution_count": 51,
   "id": "4a621cb1",
   "metadata": {},
   "outputs": [
    {
     "name": "stdout",
     "output_type": "stream",
     "text": [
      "Cross-validation scores: [0.87150668 0.90259214 0.90988254 0.91646416 0.89013771]\n",
      "Mean accuracy: 0.8981166464155528\n",
      "Standard deviation: 0.015917607336943643\n"
     ]
    }
   ],
   "source": [
    "# Perform 5-fold cross-validation\n",
    "cv_scores = cross_val_score(rf, X, y, cv=5, scoring='accuracy')\n",
    "\n",
    "# Print cross-validation results\n",
    "print(\"Cross-validation scores:\", cv_scores)\n",
    "print(\"Mean accuracy:\", np.mean(cv_scores))\n",
    "print(\"Standard deviation:\", np.std(cv_scores))"
   ]
  },
  {
   "cell_type": "markdown",
   "id": "4d6c317c",
   "metadata": {},
   "source": [
    "### Conclusion\n",
    "\n",
    "The Random Forest model aligns seamlessly with the business need to predict credit risk accurately for credit card applicants. Its ability to classify customers effectively into low-risk and high-risk categories ensures financial institutions can:\n",
    "\n",
    "- Reduce Defaults: By identifying high-risk customers, proactive measures can be implemented to mitigate default risks.\n",
    "- Optimize Resource Allocation: Credit can be tailored more effectively to customers based on their risk profiles.\n",
    "- Improve Decision-Making: The model's robustness ensures trust in automated credit approval decisions.\n",
    "\n",
    "By leveraging historical payment behavior and demographic data, the Random Forest model fulfills the project objective of predicting the likelihood of customer default, enabling financial institutions to make data-driven, profitable decisions while minimizing risk exposure."
   ]
  }
 ],
 "metadata": {
  "kernelspec": {
   "display_name": "Python 3 (ipykernel)",
   "language": "python",
   "name": "python3"
  },
  "language_info": {
   "codemirror_mode": {
    "name": "ipython",
    "version": 3
   },
   "file_extension": ".py",
   "mimetype": "text/x-python",
   "name": "python",
   "nbconvert_exporter": "python",
   "pygments_lexer": "ipython3",
   "version": "3.10.9"
  }
 },
 "nbformat": 4,
 "nbformat_minor": 5
}
